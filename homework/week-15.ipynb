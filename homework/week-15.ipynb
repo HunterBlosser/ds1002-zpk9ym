{
  "nbformat": 4,
  "nbformat_minor": 0,
  "metadata": {
    "colab": {
      "provenance": [],
      "include_colab_link": true
    },
    "kernelspec": {
      "name": "ir",
      "display_name": "R"
    },
    "language_info": {
      "name": "R"
    }
  },
  "cells": [
    {
      "cell_type": "markdown",
      "metadata": {
        "id": "view-in-github",
        "colab_type": "text"
      },
      "source": [
        "<a href=\"https://colab.research.google.com/github/HunterBlosser/ds1002-zpk9ym/blob/main/homework/week-15.ipynb\" target=\"_parent\"><img src=\"https://colab.research.google.com/assets/colab-badge.svg\" alt=\"Open In Colab\"/></a>"
      ]
    },
    {
      "cell_type": "markdown",
      "source": [
        "# Homework - Week 15\n",
        "\n",
        "Complete the following blocks as specified in the directions. Run each cell to return the desired output. Save your notebook back to your GitHub repository and submit the GitHub URL to your notebook for review."
      ],
      "metadata": {
        "id": "sZruw3XQogej"
      }
    },
    {
      "cell_type": "markdown",
      "source": [
        "## 1. Create Functions (4 pts)\n",
        "\n",
        "Create two functions in the cells below, according to the prompts given."
      ],
      "metadata": {
        "id": "lkaofBQypx1X"
      }
    },
    {
      "cell_type": "code",
      "source": [
        "# create a function in R that:\n",
        "#   1. takes a single integer as an input parameter\n",
        "#   2. determines whether the integer is even or odd\n",
        "#   3. returns a character statement \"The integer <x> is even\" or \"The integer <x> is odd\" (replace <x> with the actual input provided)\n",
        "#\n",
        "# then execute the function twice using two different input values, displaying even and odd results.\n",
        "evenodd <- function(x) {\n",
        "  if (x%%2==1) {\n",
        "    return(paste(\"The integer\", x, \"is odd\"))\n",
        "  } else {\n",
        "    return(paste(\"The integer\", x, \"is even\"))\n",
        "  }\n",
        "}\n",
        "evenodd(2)\n",
        "evenodd(3)\n",
        "\n"
      ],
      "metadata": {
        "id": "1fjq5bkEp6Zv",
        "outputId": "22a14b93-9494-4c64-b1cd-5e9c4035d949",
        "colab": {
          "base_uri": "https://localhost:8080/",
          "height": 52
        }
      },
      "execution_count": 1,
      "outputs": [
        {
          "output_type": "display_data",
          "data": {
            "text/html": [
              "'The integer 2 is even'"
            ],
            "text/markdown": "'The integer 2 is even'",
            "text/latex": "'The integer 2 is even'",
            "text/plain": [
              "[1] \"The integer 2 is even\""
            ]
          },
          "metadata": {}
        },
        {
          "output_type": "display_data",
          "data": {
            "text/html": [
              "'The integer 3 is odd'"
            ],
            "text/markdown": "'The integer 3 is odd'",
            "text/latex": "'The integer 3 is odd'",
            "text/plain": [
              "[1] \"The integer 3 is odd\""
            ]
          },
          "metadata": {}
        }
      ]
    },
    {
      "cell_type": "code",
      "source": [
        "# create a function in R that:\n",
        "#   1. takes 4 integer input parameters\n",
        "#   2. returns the mean value of the inputs\n",
        "#   3. has default values for the 4 input parameters, in case they are not provided when the function is called.\n",
        "#\n",
        "# then execute the function twice: once where you provide the input values, and once where you do not.\n",
        "calculate_mean <- function(a=1, b=2, c=3, d=4) {\n",
        "  mean_value <- mean(c(a, b, c, d))\n",
        "  return(mean_value)\n",
        "}\n",
        "calculate_mean(2,3,4,5)\n",
        "calculate_mean()"
      ],
      "metadata": {
        "id": "f3IFD-T6p6Rd",
        "outputId": "2974e976-8e1c-4dcb-bec6-50d9ca2a3234",
        "colab": {
          "base_uri": "https://localhost:8080/",
          "height": 52
        }
      },
      "execution_count": 8,
      "outputs": [
        {
          "output_type": "display_data",
          "data": {
            "text/html": [
              "3.5"
            ],
            "text/markdown": "3.5",
            "text/latex": "3.5",
            "text/plain": [
              "[1] 3.5"
            ]
          },
          "metadata": {}
        },
        {
          "output_type": "display_data",
          "data": {
            "text/html": [
              "2.5"
            ],
            "text/markdown": "2.5",
            "text/latex": "2.5",
            "text/plain": [
              "[1] 2.5"
            ]
          },
          "metadata": {}
        }
      ]
    },
    {
      "cell_type": "markdown",
      "source": [
        "## 2. Plot Data (4 pts)"
      ],
      "metadata": {
        "id": "F6Rx0GIGrpOB"
      }
    },
    {
      "cell_type": "markdown",
      "source": [
        "In the cell below, write the code required to plot from the `msleep` sample data set.\n",
        "\n",
        "1. Display only animals with body weights of 30 or greater.\n",
        "2. Group the animals by `order`.\n",
        "3. Display the mean `sleep_total` for each group in a bar plot."
      ],
      "metadata": {
        "id": "IDLyOjOJsFCX"
      }
    },
    {
      "cell_type": "code",
      "source": [
        "#\n",
        "library(tidyverse)\n",
        "library(ggplot2)\n",
        "install.packages(\"gapminder\")\n",
        "library(gapminder)\n",
        "library(dplyr)\n",
        "library(stringr)\n",
        "df <- msleep %>% filter(bodywt >=30)\n",
        "dforder <- df %>% group_by(order) %>%\n",
        "summarise(mean_sleep_total = mean(sleep_total))\n",
        "ggplot(dforder, aes(x=order, y=mean_sleep_total))+geom_bar(stat=\"identity\", position=\"dodge\")\n",
        ""
      ],
      "metadata": {
        "id": "0D5Ia-BPsoPZ",
        "outputId": "d80e025c-7a9f-47db-c96f-ae343740ee96",
        "colab": {
          "base_uri": "https://localhost:8080/",
          "height": 489
        }
      },
      "execution_count": 25,
      "outputs": [
        {
          "output_type": "stream",
          "name": "stderr",
          "text": [
            "Installing package into ‘/usr/local/lib/R/site-library’\n",
            "(as ‘lib’ is unspecified)\n",
            "\n"
          ]
        },
        {
          "output_type": "display_data",
          "data": {
            "text/plain": [
              "plot without title"
            ],
            "image/png": "[encoded data removed]"
          },
          "metadata": {
            "image/png": {
              "width": 420,
              "height": 420
            }
          }
        }
      ]
    },
    {
      "cell_type": "markdown",
      "source": [
        "## 3. Clean and Analyze Data Using R (4 pts)\n",
        "\n",
        "In the cells below use R to perform the following data cleaning steps on this file:\n",
        "https://raw.githubusercontent.com/nmagee/ds1002/main/data/social-media-users.csv\n",
        "\n",
        "1. Remove any duplicate rows.\n",
        "2. Remove any records where `last_login` or `birthdate` are empty.\n",
        "3. Display only the records with the 10 highest `follower` counts.\n",
        "4. Determine counts of users when grouped by continent."
      ],
      "metadata": {
        "id": "-2ZaFcCCv3o8"
      }
    },
    {
      "cell_type": "code",
      "source": [
        "#\n",
        "df <- read.csv(\"https://raw.githubusercontent.com/nmagee/ds1002/main/data/social-media-users.csv\")\n",
        "df2 <- df[!duplicated(df), ]\n",
        "df2"
      ],
      "metadata": {
        "id": "V4nBsdVsyauQ",
        "outputId": "132a3c29-0db8-4b6c-a5f9-05d56eb1ea37",
        "colab": {
          "base_uri": "https://localhost:8080/",
          "height": 1000
        }
      },
      "execution_count": 41,
      "outputs": [
        {
          "output_type": "display_data",
          "data": {
            "text/html": [
              "<table class=\"dataframe\">\n",
              "<caption>A data.frame: 1000 × 8</caption>\n",
              "<thead>\n",
              "\t<tr><th></th><th scope=col>username</th><th scope=col>full_name</th><th scope=col>birthdate</th><th scope=col>email</th><th scope=col>continent</th><th scope=col>followers</th><th scope=col>last_login</th><th scope=col>interests</th></tr>\n",
              "\t<tr><th></th><th scope=col>&lt;chr&gt;</th><th scope=col>&lt;chr&gt;</th><th scope=col>&lt;chr&gt;</th><th scope=col>&lt;chr&gt;</th><th scope=col>&lt;chr&gt;</th><th scope=col>&lt;int&gt;</th><th scope=col>&lt;chr&gt;</th><th scope=col>&lt;chr&gt;</th></tr>\n",
              "</thead>\n",
              "<tbody>\n",
              "\t<tr><th scope=row>1</th><td>ckippen0     </td><td>Clevey Kippen    </td><td>5/1/1991  </td><td>ckippen0@t-online.de              </td><td>NA</td><td>12362</td><td>5/16/2023 </td><td>music </td></tr>\n",
              "\t<tr><th scope=row>2</th><td>tgergler1    </td><td>Tedi Gergler     </td><td>10/5/1998 </td><td>tgergler1@salon.com               </td><td>NA</td><td>21360</td><td>8/20/2020 </td><td>sports</td></tr>\n",
              "\t<tr><th scope=row>3</th><td>spomfrett2   </td><td>Steffie Pomfrett </td><td>          </td><td>spomfrett2@imdb.com               </td><td>NA</td><td>19530</td><td>11/19/2022</td><td>sports</td></tr>\n",
              "\t<tr><th scope=row>4</th><td>rphettis3    </td><td>Ruddy Phettis    </td><td>6/18/1984 </td><td>rphettis3@npr.org                 </td><td>EU</td><td>80047</td><td>9/20/2023 </td><td>travel</td></tr>\n",
              "\t<tr><th scope=row>5</th><td>ngilcriest4  </td><td>Nico Gilcriest   </td><td>10/11/1993</td><td>ngilcriest4@dyndns.org            </td><td>NA</td><td>33544</td><td>          </td><td>music </td></tr>\n",
              "\t<tr><th scope=row>6</th><td>fhampson5    </td><td>Farrell Hampson  </td><td>11/7/1985 </td><td>fhampson5@lulu.com                </td><td>OC</td><td>72161</td><td>          </td><td>sports</td></tr>\n",
              "\t<tr><th scope=row>7</th><td>ttotman6     </td><td>Tamqrah Totman   </td><td>8/7/1986  </td><td>ttotman6@elpais.com               </td><td>AF</td><td>42669</td><td>3/10/2023 </td><td>music </td></tr>\n",
              "\t<tr><th scope=row>8</th><td>bdennes7     </td><td>Bonita Dennes    </td><td>          </td><td>bdennes7@cnet.com                 </td><td>NA</td><td>22516</td><td>2/3/2023  </td><td>sports</td></tr>\n",
              "\t<tr><th scope=row>9</th><td>kgrigoryev8  </td><td>Krishna Grigoryev</td><td>5/25/1990 </td><td>kgrigoryev8@quantcast.com         </td><td>EU</td><td>93923</td><td>1/30/2023 </td><td>travel</td></tr>\n",
              "\t<tr><th scope=row>10</th><td>mbathoe9     </td><td>Mallissa Bathoe  </td><td>          </td><td>mbathoe9@bloomberg.com            </td><td>AS</td><td>18554</td><td>3/5/2022  </td><td>travel</td></tr>\n",
              "\t<tr><th scope=row>11</th><td>hallensona   </td><td>Hayward Allenson </td><td>3/15/1983 </td><td>hallensona@wp.com                 </td><td>AF</td><td>81042</td><td>          </td><td>travel</td></tr>\n",
              "\t<tr><th scope=row>12</th><td>mchittockb   </td><td>Myriam Chittock  </td><td>1/26/1989 </td><td>mchittockb@uiuc.edu               </td><td>AF</td><td>46304</td><td>8/29/2023 </td><td>sports</td></tr>\n",
              "\t<tr><th scope=row>13</th><td>mfranzewitchc</td><td>Max Franzewitch  </td><td>12/25/1997</td><td>mfranzewitchc@paginegialle.it     </td><td>NA</td><td> 5640</td><td>          </td><td>travel</td></tr>\n",
              "\t<tr><th scope=row>14</th><td>aeasbyd      </td><td>Alessandra Easby </td><td>1/5/1991  </td><td>aeasbyd@google.ca                 </td><td>AF</td><td>16786</td><td>6/15/2023 </td><td>sports</td></tr>\n",
              "\t<tr><th scope=row>15</th><td>hschubarte   </td><td>Hubert Schubart  </td><td>11/23/1984</td><td>hschubarte@friendfeed.com         </td><td>NA</td><td>74336</td><td>          </td><td>sports</td></tr>\n",
              "\t<tr><th scope=row>16</th><td>dleishmanf   </td><td>Dyane Leishman   </td><td>2/12/1990 </td><td>dleishmanf@lycos.com              </td><td>NA</td><td>85070</td><td>6/5/2021  </td><td>travel</td></tr>\n",
              "\t<tr><th scope=row>17</th><td>scoilsg      </td><td>Shayla Coils     </td><td>          </td><td>scoilsg@hhs.gov                   </td><td>NA</td><td>79667</td><td>10/14/2021</td><td>travel</td></tr>\n",
              "\t<tr><th scope=row>18</th><td>bkrzysztofh  </td><td>Bendick Krzysztof</td><td>10/19/1985</td><td>bkrzysztofh@nationalgeographic.com</td><td>NA</td><td>11748</td><td>          </td><td>music </td></tr>\n",
              "\t<tr><th scope=row>19</th><td>omarusiki    </td><td>Otha Marusik     </td><td>12/4/1992 </td><td>omarusiki@cdbaby.com              </td><td>AF</td><td>93981</td><td>2/4/2022  </td><td>travel</td></tr>\n",
              "\t<tr><th scope=row>20</th><td>craglesj     </td><td>Constancia Ragles</td><td>          </td><td>craglesj@e-recht24.de             </td><td>NA</td><td>85300</td><td>9/28/2021 </td><td>sports</td></tr>\n",
              "\t<tr><th scope=row>21</th><td>sspenclayk   </td><td>Scott Spenclay   </td><td>12/7/1989 </td><td>sspenclayk@wikispaces.com         </td><td>AF</td><td>31745</td><td>11/29/2022</td><td>sports</td></tr>\n",
              "\t<tr><th scope=row>22</th><td>gklinckl     </td><td>Georgetta Klinck </td><td>7/26/1996 </td><td>gklinckl@over-blog.com            </td><td>SA</td><td>69386</td><td>9/10/2023 </td><td>sports</td></tr>\n",
              "\t<tr><th scope=row>23</th><td>rhollowm     </td><td>Riccardo Hollow  </td><td>1/18/1980 </td><td>rhollowm@dyndns.org               </td><td>OC</td><td>73088</td><td>1/22/2020 </td><td>sports</td></tr>\n",
              "\t<tr><th scope=row>24</th><td>atrouncen    </td><td>Aube Trounce     </td><td>9/5/1984  </td><td>atrouncen@shinystat.com           </td><td>AS</td><td>51692</td><td>          </td><td>music </td></tr>\n",
              "\t<tr><th scope=row>25</th><td>jquareo      </td><td>Joey Quare       </td><td>11/19/1999</td><td>jquareo@furl.net                  </td><td>AF</td><td>68116</td><td>          </td><td>sports</td></tr>\n",
              "\t<tr><th scope=row>26</th><td>rbellonp     </td><td>Rodolph Bellon   </td><td>8/30/2002 </td><td>rbellonp@cisco.com                </td><td>AF</td><td>96337</td><td>          </td><td>music </td></tr>\n",
              "\t<tr><th scope=row>27</th><td>chawesq      </td><td>Courtnay Hawes   </td><td>          </td><td>chawesq@deviantart.com            </td><td>AF</td><td>  435</td><td>3/19/2023 </td><td>music </td></tr>\n",
              "\t<tr><th scope=row>28</th><td>acheshirr    </td><td>Ali Cheshir      </td><td>4/19/1998 </td><td>acheshirr@phoca.cz                </td><td>AS</td><td>79802</td><td>          </td><td>sports</td></tr>\n",
              "\t<tr><th scope=row>29</th><td>galdrins     </td><td>Gerick Aldrin    </td><td>7/31/1995 </td><td>galdrins@ca.gov                   </td><td>NA</td><td>96491</td><td>5/26/2022 </td><td>music </td></tr>\n",
              "\t<tr><th scope=row>30</th><td>ddimmockt    </td><td>Didi Dimmock     </td><td>5/15/1985 </td><td>ddimmockt@wired.com               </td><td>EU</td><td>81726</td><td>4/23/2021 </td><td>sports</td></tr>\n",
              "\t<tr><th scope=row>⋮</th><td>⋮</td><td>⋮</td><td>⋮</td><td>⋮</td><td>⋮</td><td>⋮</td><td>⋮</td><td>⋮</td></tr>\n",
              "\t<tr><th scope=row>1289</th><td>sargerqy      </td><td>Shane Arger         </td><td>2/21/1992 </td><td>sargerqy@exblog.jp             </td><td>AF</td><td>53022</td><td>12/7/2021 </td><td>music </td></tr>\n",
              "\t<tr><th scope=row>1290</th><td>jgiorgiuttiqz </td><td>Joy Giorgiutti      </td><td>5/5/1988  </td><td>jgiorgiuttiqz@timesonline.co.uk</td><td>NA</td><td>26125</td><td>6/1/2020  </td><td>travel</td></tr>\n",
              "\t<tr><th scope=row>1291</th><td>bgerwoodr0    </td><td>Beverlee Gerwood    </td><td>1/29/1980 </td><td>bgerwoodr0@fotki.com           </td><td>AS</td><td>22633</td><td>          </td><td>music </td></tr>\n",
              "\t<tr><th scope=row>1292</th><td>fheinker1     </td><td>Fleurette Heinke    </td><td>          </td><td>fheinker1@google.fr            </td><td>NA</td><td>39891</td><td>8/17/2020 </td><td>travel</td></tr>\n",
              "\t<tr><th scope=row>1293</th><td>acashellr2    </td><td>Aridatha Cashell    </td><td>          </td><td>acashellr2@mediafire.com       </td><td>NA</td><td>84669</td><td>7/29/2022 </td><td>music </td></tr>\n",
              "\t<tr><th scope=row>1294</th><td>dupstellr3    </td><td>Durward Upstell     </td><td>          </td><td>dupstellr3@buzzfeed.com        </td><td>NA</td><td>58154</td><td>6/8/2020  </td><td>sports</td></tr>\n",
              "\t<tr><th scope=row>1295</th><td>ksturdeyr4    </td><td>Krissie Sturdey     </td><td>8/13/1980 </td><td>ksturdeyr4@skyrock.com         </td><td>SA</td><td>37880</td><td>4/17/2020 </td><td>travel</td></tr>\n",
              "\t<tr><th scope=row>1296</th><td>qrogeronr5    </td><td>Quent Rogeron       </td><td>          </td><td>qrogeronr5@merriam-webster.com </td><td>SA</td><td>76526</td><td>8/22/2023 </td><td>travel</td></tr>\n",
              "\t<tr><th scope=row>1297</th><td>ggerrillr6    </td><td>Genevieve Gerrill   </td><td>8/16/1994 </td><td>ggerrillr6@xrea.com            </td><td>OC</td><td>78326</td><td>4/30/2022 </td><td>sports</td></tr>\n",
              "\t<tr><th scope=row>1298</th><td>ftothacotr7   </td><td>Faustine Tothacot   </td><td>12/3/1998 </td><td>ftothacotr7@usgs.gov           </td><td>NA</td><td> 9927</td><td>          </td><td>sports</td></tr>\n",
              "\t<tr><th scope=row>1299</th><td>dfordhamr8    </td><td>Dean Fordham        </td><td>5/6/1989  </td><td>dfordhamr8@google.com.au       </td><td>NA</td><td>94828</td><td>          </td><td>music </td></tr>\n",
              "\t<tr><th scope=row>1300</th><td>rleningr9     </td><td>Roch Lening         </td><td>9/1/1981  </td><td>rleningr9@taobao.com           </td><td>OC</td><td>21333</td><td>2/23/2020 </td><td>music </td></tr>\n",
              "\t<tr><th scope=row>1301</th><td>gbilbeyra     </td><td>Grannie Bilbey      </td><td>6/22/1992 </td><td>gbilbeyra@wisc.edu             </td><td>AS</td><td>77316</td><td>5/4/2022  </td><td>music </td></tr>\n",
              "\t<tr><th scope=row>1302</th><td>araddenrb     </td><td>Anneliese Radden    </td><td>          </td><td>araddenrb@umn.edu              </td><td>NA</td><td>16230</td><td>          </td><td>music </td></tr>\n",
              "\t<tr><th scope=row>1303</th><td>vskirlinrc    </td><td>Van Skirlin         </td><td>          </td><td>vskirlinrc@sphinn.com          </td><td>NA</td><td>14500</td><td>6/21/2021 </td><td>music </td></tr>\n",
              "\t<tr><th scope=row>1304</th><td>efursserd     </td><td>Ekaterina Fursse    </td><td>7/13/1994 </td><td>efursserd@flickr.com           </td><td>AS</td><td>83588</td><td>          </td><td>travel</td></tr>\n",
              "\t<tr><th scope=row>1305</th><td>acaldicottre  </td><td>Ashlee Caldicott    </td><td>2/2/1996  </td><td>acaldicottre@furl.net          </td><td>OC</td><td>67530</td><td>2/15/2022 </td><td>music </td></tr>\n",
              "\t<tr><th scope=row>1306</th><td>fdorgonrf     </td><td>Fritz Dorgon        </td><td>          </td><td>fdorgonrf@homestead.com        </td><td>AS</td><td>33272</td><td>          </td><td>music </td></tr>\n",
              "\t<tr><th scope=row>1307</th><td>kklicherg     </td><td>Kristine Kliche     </td><td>10/20/1983</td><td>kklicherg@indiatimes.com       </td><td>EU</td><td> 8487</td><td>          </td><td>music </td></tr>\n",
              "\t<tr><th scope=row>1308</th><td>jbirchallrh   </td><td>Jinny Birchall      </td><td>11/3/1987 </td><td>jbirchallrh@senate.gov         </td><td>AF</td><td>76102</td><td>3/4/2022  </td><td>music </td></tr>\n",
              "\t<tr><th scope=row>1309</th><td>lnorwellri    </td><td>Lelia Norwell       </td><td>          </td><td>lnorwellri@slate.com           </td><td>SA</td><td>51920</td><td>1/11/2023 </td><td>travel</td></tr>\n",
              "\t<tr><th scope=row>1310</th><td>fwegenenrj    </td><td>Filippa Wegenen     </td><td>10/25/1994</td><td>fwegenenrj@nbcnews.com         </td><td>NA</td><td>68133</td><td>9/20/2023 </td><td>travel</td></tr>\n",
              "\t<tr><th scope=row>1311</th><td>bpierrork     </td><td>Bobbie Pierro       </td><td>5/27/1991 </td><td>bpierrork@rambler.ru           </td><td>NA</td><td>81408</td><td>6/6/2023  </td><td>sports</td></tr>\n",
              "\t<tr><th scope=row>1312</th><td>hransomrl     </td><td>Helenka Ransom      </td><td>          </td><td>hransomrl@qq.com               </td><td>EU</td><td>69467</td><td>7/29/2023 </td><td>music </td></tr>\n",
              "\t<tr><th scope=row>1313</th><td>vmacterrellyrm</td><td>Virginie MacTerrelly</td><td>10/8/1994 </td><td>vmacterrellyrm@dailymotion.com </td><td>AS</td><td>   81</td><td>9/11/2023 </td><td>sports</td></tr>\n",
              "\t<tr><th scope=row>1314</th><td>sschafflerrn  </td><td>Sallyann Schaffler  </td><td>12/7/1999 </td><td>sschafflerrn@wsj.com           </td><td>OC</td><td>89752</td><td>9/20/2020 </td><td>sports</td></tr>\n",
              "\t<tr><th scope=row>1315</th><td>nilyinskiro   </td><td>Nanette Ilyinski    </td><td>5/13/1989 </td><td>nilyinskiro@123-reg.co.uk      </td><td>NA</td><td>47332</td><td>11/16/2020</td><td>sports</td></tr>\n",
              "\t<tr><th scope=row>1316</th><td>sgeertzrp     </td><td>Stephen Geertz      </td><td>9/6/1994  </td><td>sgeertzrp@hp.com               </td><td>NA</td><td>36511</td><td>11/19/2022</td><td>music </td></tr>\n",
              "\t<tr><th scope=row>1317</th><td>cchurchmanrq  </td><td>Chrisse Churchman   </td><td>4/23/1998 </td><td>cchurchmanrq@qq.com            </td><td>NA</td><td>84037</td><td>2/12/2022 </td><td>music </td></tr>\n",
              "\t<tr><th scope=row>1318</th><td>crembrantrr   </td><td>Clementine Rembrant </td><td>3/15/2001 </td><td>crembrantrr@who.int            </td><td>NA</td><td>11336</td><td>3/2/2020  </td><td>music </td></tr>\n",
              "</tbody>\n",
              "</table>\n"
            ],
            "text/markdown": "\nA data.frame: 1000 × 8\n\n| <!--/--> | username &lt;chr&gt; | full_name &lt;chr&gt; | birthdate &lt;chr&gt; | email &lt;chr&gt; | continent &lt;chr&gt; | followers &lt;int&gt; | last_login &lt;chr&gt; | interests &lt;chr&gt; |\n|---|---|---|---|---|---|---|---|---|\n| 1 | ckippen0      | Clevey Kippen     | 5/1/1991   | ckippen0@t-online.de               | NA | 12362 | 5/16/2023  | music  |\n| 2 | tgergler1     | Tedi Gergler      | 10/5/1998  | tgergler1@salon.com                | NA | 21360 | 8/20/2020  | sports |\n| 3 | spomfrett2    | Steffie Pomfrett  | <!----> | spomfrett2@imdb.com                | NA | 19530 | 11/19/2022 | sports |\n| 4 | rphettis3     | Ruddy Phettis     | 6/18/1984  | rphettis3@npr.org                  | EU | 80047 | 9/20/2023  | travel |\n| 5 | ngilcriest4   | Nico Gilcriest    | 10/11/1993 | ngilcriest4@dyndns.org             | NA | 33544 | <!----> | music  |\n| 6 | fhampson5     | Farrell Hampson   | 11/7/1985  | fhampson5@lulu.com                 | OC | 72161 | <!----> | sports |\n| 7 | ttotman6      | Tamqrah Totman    | 8/7/1986   | ttotman6@elpais.com                | AF | 42669 | 3/10/2023  | music  |\n| 8 | bdennes7      | Bonita Dennes     | <!----> | bdennes7@cnet.com                  | NA | 22516 | 2/3/2023   | sports |\n| 9 | kgrigoryev8   | Krishna Grigoryev | 5/25/1990  | kgrigoryev8@quantcast.com          | EU | 93923 | 1/30/2023  | travel |\n| 10 | mbathoe9      | Mallissa Bathoe   | <!----> | mbathoe9@bloomberg.com             | AS | 18554 | 3/5/2022   | travel |\n| 11 | hallensona    | Hayward Allenson  | 3/15/1983  | hallensona@wp.com                  | AF | 81042 | <!----> | travel |\n| 12 | mchittockb    | Myriam Chittock   | 1/26/1989  | mchittockb@uiuc.edu                | AF | 46304 | 8/29/2023  | sports |\n| 13 | mfranzewitchc | Max Franzewitch   | 12/25/1997 | mfranzewitchc@paginegialle.it      | NA |  5640 | <!----> | travel |\n| 14 | aeasbyd       | Alessandra Easby  | 1/5/1991   | aeasbyd@google.ca                  | AF | 16786 | 6/15/2023  | sports |\n| 15 | hschubarte    | Hubert Schubart   | 11/23/1984 | hschubarte@friendfeed.com          | NA | 74336 | <!----> | sports |\n| 16 | dleishmanf    | Dyane Leishman    | 2/12/1990  | dleishmanf@lycos.com               | NA | 85070 | 6/5/2021   | travel |\n| 17 | scoilsg       | Shayla Coils      | <!----> | scoilsg@hhs.gov                    | NA | 79667 | 10/14/2021 | travel |\n| 18 | bkrzysztofh   | Bendick Krzysztof | 10/19/1985 | bkrzysztofh@nationalgeographic.com | NA | 11748 | <!----> | music  |\n| 19 | omarusiki     | Otha Marusik      | 12/4/1992  | omarusiki@cdbaby.com               | AF | 93981 | 2/4/2022   | travel |\n| 20 | craglesj      | Constancia Ragles | <!----> | craglesj@e-recht24.de              | NA | 85300 | 9/28/2021  | sports |\n| 21 | sspenclayk    | Scott Spenclay    | 12/7/1989  | sspenclayk@wikispaces.com          | AF | 31745 | 11/29/2022 | sports |\n| 22 | gklinckl      | Georgetta Klinck  | 7/26/1996  | gklinckl@over-blog.com             | SA | 69386 | 9/10/2023  | sports |\n| 23 | rhollowm      | Riccardo Hollow   | 1/18/1980  | rhollowm@dyndns.org                | OC | 73088 | 1/22/2020  | sports |\n| 24 | atrouncen     | Aube Trounce      | 9/5/1984   | atrouncen@shinystat.com            | AS | 51692 | <!----> | music  |\n| 25 | jquareo       | Joey Quare        | 11/19/1999 | jquareo@furl.net                   | AF | 68116 | <!----> | sports |\n| 26 | rbellonp      | Rodolph Bellon    | 8/30/2002  | rbellonp@cisco.com                 | AF | 96337 | <!----> | music  |\n| 27 | chawesq       | Courtnay Hawes    | <!----> | chawesq@deviantart.com             | AF |   435 | 3/19/2023  | music  |\n| 28 | acheshirr     | Ali Cheshir       | 4/19/1998  | acheshirr@phoca.cz                 | AS | 79802 | <!----> | sports |\n| 29 | galdrins      | Gerick Aldrin     | 7/31/1995  | galdrins@ca.gov                    | NA | 96491 | 5/26/2022  | music  |\n| 30 | ddimmockt     | Didi Dimmock      | 5/15/1985  | ddimmockt@wired.com                | EU | 81726 | 4/23/2021  | sports |\n| ⋮ | ⋮ | ⋮ | ⋮ | ⋮ | ⋮ | ⋮ | ⋮ | ⋮ |\n| 1289 | sargerqy       | Shane Arger          | 2/21/1992  | sargerqy@exblog.jp              | AF | 53022 | 12/7/2021  | music  |\n| 1290 | jgiorgiuttiqz  | Joy Giorgiutti       | 5/5/1988   | jgiorgiuttiqz@timesonline.co.uk | NA | 26125 | 6/1/2020   | travel |\n| 1291 | bgerwoodr0     | Beverlee Gerwood     | 1/29/1980  | bgerwoodr0@fotki.com            | AS | 22633 | <!----> | music  |\n| 1292 | fheinker1      | Fleurette Heinke     | <!----> | fheinker1@google.fr             | NA | 39891 | 8/17/2020  | travel |\n| 1293 | acashellr2     | Aridatha Cashell     | <!----> | acashellr2@mediafire.com        | NA | 84669 | 7/29/2022  | music  |\n| 1294 | dupstellr3     | Durward Upstell      | <!----> | dupstellr3@buzzfeed.com         | NA | 58154 | 6/8/2020   | sports |\n| 1295 | ksturdeyr4     | Krissie Sturdey      | 8/13/1980  | ksturdeyr4@skyrock.com          | SA | 37880 | 4/17/2020  | travel |\n| 1296 | qrogeronr5     | Quent Rogeron        | <!----> | qrogeronr5@merriam-webster.com  | SA | 76526 | 8/22/2023  | travel |\n| 1297 | ggerrillr6     | Genevieve Gerrill    | 8/16/1994  | ggerrillr6@xrea.com             | OC | 78326 | 4/30/2022  | sports |\n| 1298 | ftothacotr7    | Faustine Tothacot    | 12/3/1998  | ftothacotr7@usgs.gov            | NA |  9927 | <!----> | sports |\n| 1299 | dfordhamr8     | Dean Fordham         | 5/6/1989   | dfordhamr8@google.com.au        | NA | 94828 | <!----> | music  |\n| 1300 | rleningr9      | Roch Lening          | 9/1/1981   | rleningr9@taobao.com            | OC | 21333 | 2/23/2020  | music  |\n| 1301 | gbilbeyra      | Grannie Bilbey       | 6/22/1992  | gbilbeyra@wisc.edu              | AS | 77316 | 5/4/2022   | music  |\n| 1302 | araddenrb      | Anneliese Radden     | <!----> | araddenrb@umn.edu               | NA | 16230 | <!----> | music  |\n| 1303 | vskirlinrc     | Van Skirlin          | <!----> | vskirlinrc@sphinn.com           | NA | 14500 | 6/21/2021  | music  |\n| 1304 | efursserd      | Ekaterina Fursse     | 7/13/1994  | efursserd@flickr.com            | AS | 83588 | <!----> | travel |\n| 1305 | acaldicottre   | Ashlee Caldicott     | 2/2/1996   | acaldicottre@furl.net           | OC | 67530 | 2/15/2022  | music  |\n| 1306 | fdorgonrf      | Fritz Dorgon         | <!----> | fdorgonrf@homestead.com         | AS | 33272 | <!----> | music  |\n| 1307 | kklicherg      | Kristine Kliche      | 10/20/1983 | kklicherg@indiatimes.com        | EU |  8487 | <!----> | music  |\n| 1308 | jbirchallrh    | Jinny Birchall       | 11/3/1987  | jbirchallrh@senate.gov          | AF | 76102 | 3/4/2022   | music  |\n| 1309 | lnorwellri     | Lelia Norwell        | <!----> | lnorwellri@slate.com            | SA | 51920 | 1/11/2023  | travel |\n| 1310 | fwegenenrj     | Filippa Wegenen      | 10/25/1994 | fwegenenrj@nbcnews.com          | NA | 68133 | 9/20/2023  | travel |\n| 1311 | bpierrork      | Bobbie Pierro        | 5/27/1991  | bpierrork@rambler.ru            | NA | 81408 | 6/6/2023   | sports |\n| 1312 | hransomrl      | Helenka Ransom       | <!----> | hransomrl@qq.com                | EU | 69467 | 7/29/2023  | music  |\n| 1313 | vmacterrellyrm | Virginie MacTerrelly | 10/8/1994  | vmacterrellyrm@dailymotion.com  | AS |    81 | 9/11/2023  | sports |\n| 1314 | sschafflerrn   | Sallyann Schaffler   | 12/7/1999  | sschafflerrn@wsj.com            | OC | 89752 | 9/20/2020  | sports |\n| 1315 | nilyinskiro    | Nanette Ilyinski     | 5/13/1989  | nilyinskiro@123-reg.co.uk       | NA | 47332 | 11/16/2020 | sports |\n| 1316 | sgeertzrp      | Stephen Geertz       | 9/6/1994   | sgeertzrp@hp.com                | NA | 36511 | 11/19/2022 | music  |\n| 1317 | cchurchmanrq   | Chrisse Churchman    | 4/23/1998  | cchurchmanrq@qq.com             | NA | 84037 | 2/12/2022  | music  |\n| 1318 | crembrantrr    | Clementine Rembrant  | 3/15/2001  | crembrantrr@who.int             | NA | 11336 | 3/2/2020   | music  |\n\n",
            "text/latex": "A data.frame: 1000 × 8\n\\begin{tabular}{r|llllllll}\n  & username & full\\_name & birthdate & email & continent & followers & last\\_login & interests\\\\\n  & <chr> & <chr> & <chr> & <chr> & <chr> & <int> & <chr> & <chr>\\\\\n\\hline\n\t1 & ckippen0      & Clevey Kippen     & 5/1/1991   & ckippen0@t-online.de               & NA & 12362 & 5/16/2023  & music \\\\\n\t2 & tgergler1     & Tedi Gergler      & 10/5/1998  & tgergler1@salon.com                & NA & 21360 & 8/20/2020  & sports\\\\\n\t3 & spomfrett2    & Steffie Pomfrett  &            & spomfrett2@imdb.com                & NA & 19530 & 11/19/2022 & sports\\\\\n\t4 & rphettis3     & Ruddy Phettis     & 6/18/1984  & rphettis3@npr.org                  & EU & 80047 & 9/20/2023  & travel\\\\\n\t5 & ngilcriest4   & Nico Gilcriest    & 10/11/1993 & ngilcriest4@dyndns.org             & NA & 33544 &            & music \\\\\n\t6 & fhampson5     & Farrell Hampson   & 11/7/1985  & fhampson5@lulu.com                 & OC & 72161 &            & sports\\\\\n\t7 & ttotman6      & Tamqrah Totman    & 8/7/1986   & ttotman6@elpais.com                & AF & 42669 & 3/10/2023  & music \\\\\n\t8 & bdennes7      & Bonita Dennes     &            & bdennes7@cnet.com                  & NA & 22516 & 2/3/2023   & sports\\\\\n\t9 & kgrigoryev8   & Krishna Grigoryev & 5/25/1990  & kgrigoryev8@quantcast.com          & EU & 93923 & 1/30/2023  & travel\\\\\n\t10 & mbathoe9      & Mallissa Bathoe   &            & mbathoe9@bloomberg.com             & AS & 18554 & 3/5/2022   & travel\\\\\n\t11 & hallensona    & Hayward Allenson  & 3/15/1983  & hallensona@wp.com                  & AF & 81042 &            & travel\\\\\n\t12 & mchittockb    & Myriam Chittock   & 1/26/1989  & mchittockb@uiuc.edu                & AF & 46304 & 8/29/2023  & sports\\\\\n\t13 & mfranzewitchc & Max Franzewitch   & 12/25/1997 & mfranzewitchc@paginegialle.it      & NA &  5640 &            & travel\\\\\n\t14 & aeasbyd       & Alessandra Easby  & 1/5/1991   & aeasbyd@google.ca                  & AF & 16786 & 6/15/2023  & sports\\\\\n\t15 & hschubarte    & Hubert Schubart   & 11/23/1984 & hschubarte@friendfeed.com          & NA & 74336 &            & sports\\\\\n\t16 & dleishmanf    & Dyane Leishman    & 2/12/1990  & dleishmanf@lycos.com               & NA & 85070 & 6/5/2021   & travel\\\\\n\t17 & scoilsg       & Shayla Coils      &            & scoilsg@hhs.gov                    & NA & 79667 & 10/14/2021 & travel\\\\\n\t18 & bkrzysztofh   & Bendick Krzysztof & 10/19/1985 & bkrzysztofh@nationalgeographic.com & NA & 11748 &            & music \\\\\n\t19 & omarusiki     & Otha Marusik      & 12/4/1992  & omarusiki@cdbaby.com               & AF & 93981 & 2/4/2022   & travel\\\\\n\t20 & craglesj      & Constancia Ragles &            & craglesj@e-recht24.de              & NA & 85300 & 9/28/2021  & sports\\\\\n\t21 & sspenclayk    & Scott Spenclay    & 12/7/1989  & sspenclayk@wikispaces.com          & AF & 31745 & 11/29/2022 & sports\\\\\n\t22 & gklinckl      & Georgetta Klinck  & 7/26/1996  & gklinckl@over-blog.com             & SA & 69386 & 9/10/2023  & sports\\\\\n\t23 & rhollowm      & Riccardo Hollow   & 1/18/1980  & rhollowm@dyndns.org                & OC & 73088 & 1/22/2020  & sports\\\\\n\t24 & atrouncen     & Aube Trounce      & 9/5/1984   & atrouncen@shinystat.com            & AS & 51692 &            & music \\\\\n\t25 & jquareo       & Joey Quare        & 11/19/1999 & jquareo@furl.net                   & AF & 68116 &            & sports\\\\\n\t26 & rbellonp      & Rodolph Bellon    & 8/30/2002  & rbellonp@cisco.com                 & AF & 96337 &            & music \\\\\n\t27 & chawesq       & Courtnay Hawes    &            & chawesq@deviantart.com             & AF &   435 & 3/19/2023  & music \\\\\n\t28 & acheshirr     & Ali Cheshir       & 4/19/1998  & acheshirr@phoca.cz                 & AS & 79802 &            & sports\\\\\n\t29 & galdrins      & Gerick Aldrin     & 7/31/1995  & galdrins@ca.gov                    & NA & 96491 & 5/26/2022  & music \\\\\n\t30 & ddimmockt     & Didi Dimmock      & 5/15/1985  & ddimmockt@wired.com                & EU & 81726 & 4/23/2021  & sports\\\\\n\t⋮ & ⋮ & ⋮ & ⋮ & ⋮ & ⋮ & ⋮ & ⋮ & ⋮\\\\\n\t1289 & sargerqy       & Shane Arger          & 2/21/1992  & sargerqy@exblog.jp              & AF & 53022 & 12/7/2021  & music \\\\\n\t1290 & jgiorgiuttiqz  & Joy Giorgiutti       & 5/5/1988   & jgiorgiuttiqz@timesonline.co.uk & NA & 26125 & 6/1/2020   & travel\\\\\n\t1291 & bgerwoodr0     & Beverlee Gerwood     & 1/29/1980  & bgerwoodr0@fotki.com            & AS & 22633 &            & music \\\\\n\t1292 & fheinker1      & Fleurette Heinke     &            & fheinker1@google.fr             & NA & 39891 & 8/17/2020  & travel\\\\\n\t1293 & acashellr2     & Aridatha Cashell     &            & acashellr2@mediafire.com        & NA & 84669 & 7/29/2022  & music \\\\\n\t1294 & dupstellr3     & Durward Upstell      &            & dupstellr3@buzzfeed.com         & NA & 58154 & 6/8/2020   & sports\\\\\n\t1295 & ksturdeyr4     & Krissie Sturdey      & 8/13/1980  & ksturdeyr4@skyrock.com          & SA & 37880 & 4/17/2020  & travel\\\\\n\t1296 & qrogeronr5     & Quent Rogeron        &            & qrogeronr5@merriam-webster.com  & SA & 76526 & 8/22/2023  & travel\\\\\n\t1297 & ggerrillr6     & Genevieve Gerrill    & 8/16/1994  & ggerrillr6@xrea.com             & OC & 78326 & 4/30/2022  & sports\\\\\n\t1298 & ftothacotr7    & Faustine Tothacot    & 12/3/1998  & ftothacotr7@usgs.gov            & NA &  9927 &            & sports\\\\\n\t1299 & dfordhamr8     & Dean Fordham         & 5/6/1989   & dfordhamr8@google.com.au        & NA & 94828 &            & music \\\\\n\t1300 & rleningr9      & Roch Lening          & 9/1/1981   & rleningr9@taobao.com            & OC & 21333 & 2/23/2020  & music \\\\\n\t1301 & gbilbeyra      & Grannie Bilbey       & 6/22/1992  & gbilbeyra@wisc.edu              & AS & 77316 & 5/4/2022   & music \\\\\n\t1302 & araddenrb      & Anneliese Radden     &            & araddenrb@umn.edu               & NA & 16230 &            & music \\\\\n\t1303 & vskirlinrc     & Van Skirlin          &            & vskirlinrc@sphinn.com           & NA & 14500 & 6/21/2021  & music \\\\\n\t1304 & efursserd      & Ekaterina Fursse     & 7/13/1994  & efursserd@flickr.com            & AS & 83588 &            & travel\\\\\n\t1305 & acaldicottre   & Ashlee Caldicott     & 2/2/1996   & acaldicottre@furl.net           & OC & 67530 & 2/15/2022  & music \\\\\n\t1306 & fdorgonrf      & Fritz Dorgon         &            & fdorgonrf@homestead.com         & AS & 33272 &            & music \\\\\n\t1307 & kklicherg      & Kristine Kliche      & 10/20/1983 & kklicherg@indiatimes.com        & EU &  8487 &            & music \\\\\n\t1308 & jbirchallrh    & Jinny Birchall       & 11/3/1987  & jbirchallrh@senate.gov          & AF & 76102 & 3/4/2022   & music \\\\\n\t1309 & lnorwellri     & Lelia Norwell        &            & lnorwellri@slate.com            & SA & 51920 & 1/11/2023  & travel\\\\\n\t1310 & fwegenenrj     & Filippa Wegenen      & 10/25/1994 & fwegenenrj@nbcnews.com          & NA & 68133 & 9/20/2023  & travel\\\\\n\t1311 & bpierrork      & Bobbie Pierro        & 5/27/1991  & bpierrork@rambler.ru            & NA & 81408 & 6/6/2023   & sports\\\\\n\t1312 & hransomrl      & Helenka Ransom       &            & hransomrl@qq.com                & EU & 69467 & 7/29/2023  & music \\\\\n\t1313 & vmacterrellyrm & Virginie MacTerrelly & 10/8/1994  & vmacterrellyrm@dailymotion.com  & AS &    81 & 9/11/2023  & sports\\\\\n\t1314 & sschafflerrn   & Sallyann Schaffler   & 12/7/1999  & sschafflerrn@wsj.com            & OC & 89752 & 9/20/2020  & sports\\\\\n\t1315 & nilyinskiro    & Nanette Ilyinski     & 5/13/1989  & nilyinskiro@123-reg.co.uk       & NA & 47332 & 11/16/2020 & sports\\\\\n\t1316 & sgeertzrp      & Stephen Geertz       & 9/6/1994   & sgeertzrp@hp.com                & NA & 36511 & 11/19/2022 & music \\\\\n\t1317 & cchurchmanrq   & Chrisse Churchman    & 4/23/1998  & cchurchmanrq@qq.com             & NA & 84037 & 2/12/2022  & music \\\\\n\t1318 & crembrantrr    & Clementine Rembrant  & 3/15/2001  & crembrantrr@who.int             & NA & 11336 & 3/2/2020   & music \\\\\n\\end{tabular}\n",
            "text/plain": [
              "     username       full_name            birthdate \n",
              "1    ckippen0       Clevey Kippen        5/1/1991  \n",
              "2    tgergler1      Tedi Gergler         10/5/1998 \n",
              "3    spomfrett2     Steffie Pomfrett               \n",
              "4    rphettis3      Ruddy Phettis        6/18/1984 \n",
              "5    ngilcriest4    Nico Gilcriest       10/11/1993\n",
              "6    fhampson5      Farrell Hampson      11/7/1985 \n",
              "7    ttotman6       Tamqrah Totman       8/7/1986  \n",
              "8    bdennes7       Bonita Dennes                  \n",
              "9    kgrigoryev8    Krishna Grigoryev    5/25/1990 \n",
              "10   mbathoe9       Mallissa Bathoe                \n",
              "11   hallensona     Hayward Allenson     3/15/1983 \n",
              "12   mchittockb     Myriam Chittock      1/26/1989 \n",
              "13   mfranzewitchc  Max Franzewitch      12/25/1997\n",
              "14   aeasbyd        Alessandra Easby     1/5/1991  \n",
              "15   hschubarte     Hubert Schubart      11/23/1984\n",
              "16   dleishmanf     Dyane Leishman       2/12/1990 \n",
              "17   scoilsg        Shayla Coils                   \n",
              "18   bkrzysztofh    Bendick Krzysztof    10/19/1985\n",
              "19   omarusiki      Otha Marusik         12/4/1992 \n",
              "20   craglesj       Constancia Ragles              \n",
              "21   sspenclayk     Scott Spenclay       12/7/1989 \n",
              "22   gklinckl       Georgetta Klinck     7/26/1996 \n",
              "23   rhollowm       Riccardo Hollow      1/18/1980 \n",
              "24   atrouncen      Aube Trounce         9/5/1984  \n",
              "25   jquareo        Joey Quare           11/19/1999\n",
              "26   rbellonp       Rodolph Bellon       8/30/2002 \n",
              "27   chawesq        Courtnay Hawes                 \n",
              "28   acheshirr      Ali Cheshir          4/19/1998 \n",
              "29   galdrins       Gerick Aldrin        7/31/1995 \n",
              "30   ddimmockt      Didi Dimmock         5/15/1985 \n",
              "⋮    ⋮              ⋮                    ⋮         \n",
              "1289 sargerqy       Shane Arger          2/21/1992 \n",
              "1290 jgiorgiuttiqz  Joy Giorgiutti       5/5/1988  \n",
              "1291 bgerwoodr0     Beverlee Gerwood     1/29/1980 \n",
              "1292 fheinker1      Fleurette Heinke               \n",
              "1293 acashellr2     Aridatha Cashell               \n",
              "1294 dupstellr3     Durward Upstell                \n",
              "1295 ksturdeyr4     Krissie Sturdey      8/13/1980 \n",
              "1296 qrogeronr5     Quent Rogeron                  \n",
              "1297 ggerrillr6     Genevieve Gerrill    8/16/1994 \n",
              "1298 ftothacotr7    Faustine Tothacot    12/3/1998 \n",
              "1299 dfordhamr8     Dean Fordham         5/6/1989  \n",
              "1300 rleningr9      Roch Lening          9/1/1981  \n",
              "1301 gbilbeyra      Grannie Bilbey       6/22/1992 \n",
              "1302 araddenrb      Anneliese Radden               \n",
              "1303 vskirlinrc     Van Skirlin                    \n",
              "1304 efursserd      Ekaterina Fursse     7/13/1994 \n",
              "1305 acaldicottre   Ashlee Caldicott     2/2/1996  \n",
              "1306 fdorgonrf      Fritz Dorgon                   \n",
              "1307 kklicherg      Kristine Kliche      10/20/1983\n",
              "1308 jbirchallrh    Jinny Birchall       11/3/1987 \n",
              "1309 lnorwellri     Lelia Norwell                  \n",
              "1310 fwegenenrj     Filippa Wegenen      10/25/1994\n",
              "1311 bpierrork      Bobbie Pierro        5/27/1991 \n",
              "1312 hransomrl      Helenka Ransom                 \n",
              "1313 vmacterrellyrm Virginie MacTerrelly 10/8/1994 \n",
              "1314 sschafflerrn   Sallyann Schaffler   12/7/1999 \n",
              "1315 nilyinskiro    Nanette Ilyinski     5/13/1989 \n",
              "1316 sgeertzrp      Stephen Geertz       9/6/1994  \n",
              "1317 cchurchmanrq   Chrisse Churchman    4/23/1998 \n",
              "1318 crembrantrr    Clementine Rembrant  3/15/2001 \n",
              "     email                              continent followers last_login\n",
              "1    ckippen0@t-online.de               NA        12362     5/16/2023 \n",
              "2    tgergler1@salon.com                NA        21360     8/20/2020 \n",
              "3    spomfrett2@imdb.com                NA        19530     11/19/2022\n",
              "4    rphettis3@npr.org                  EU        80047     9/20/2023 \n",
              "5    ngilcriest4@dyndns.org             NA        33544               \n",
              "6    fhampson5@lulu.com                 OC        72161               \n",
              "7    ttotman6@elpais.com                AF        42669     3/10/2023 \n",
              "8    bdennes7@cnet.com                  NA        22516     2/3/2023  \n",
              "9    kgrigoryev8@quantcast.com          EU        93923     1/30/2023 \n",
              "10   mbathoe9@bloomberg.com             AS        18554     3/5/2022  \n",
              "11   hallensona@wp.com                  AF        81042               \n",
              "12   mchittockb@uiuc.edu                AF        46304     8/29/2023 \n",
              "13   mfranzewitchc@paginegialle.it      NA         5640               \n",
              "14   aeasbyd@google.ca                  AF        16786     6/15/2023 \n",
              "15   hschubarte@friendfeed.com          NA        74336               \n",
              "16   dleishmanf@lycos.com               NA        85070     6/5/2021  \n",
              "17   scoilsg@hhs.gov                    NA        79667     10/14/2021\n",
              "18   bkrzysztofh@nationalgeographic.com NA        11748               \n",
              "19   omarusiki@cdbaby.com               AF        93981     2/4/2022  \n",
              "20   craglesj@e-recht24.de              NA        85300     9/28/2021 \n",
              "21   sspenclayk@wikispaces.com          AF        31745     11/29/2022\n",
              "22   gklinckl@over-blog.com             SA        69386     9/10/2023 \n",
              "23   rhollowm@dyndns.org                OC        73088     1/22/2020 \n",
              "24   atrouncen@shinystat.com            AS        51692               \n",
              "25   jquareo@furl.net                   AF        68116               \n",
              "26   rbellonp@cisco.com                 AF        96337               \n",
              "27   chawesq@deviantart.com             AF          435     3/19/2023 \n",
              "28   acheshirr@phoca.cz                 AS        79802               \n",
              "29   galdrins@ca.gov                    NA        96491     5/26/2022 \n",
              "30   ddimmockt@wired.com                EU        81726     4/23/2021 \n",
              "⋮    ⋮                                  ⋮         ⋮         ⋮         \n",
              "1289 sargerqy@exblog.jp                 AF        53022     12/7/2021 \n",
              "1290 jgiorgiuttiqz@timesonline.co.uk    NA        26125     6/1/2020  \n",
              "1291 bgerwoodr0@fotki.com               AS        22633               \n",
              "1292 fheinker1@google.fr                NA        39891     8/17/2020 \n",
              "1293 acashellr2@mediafire.com           NA        84669     7/29/2022 \n",
              "1294 dupstellr3@buzzfeed.com            NA        58154     6/8/2020  \n",
              "1295 ksturdeyr4@skyrock.com             SA        37880     4/17/2020 \n",
              "1296 qrogeronr5@merriam-webster.com     SA        76526     8/22/2023 \n",
              "1297 ggerrillr6@xrea.com                OC        78326     4/30/2022 \n",
              "1298 ftothacotr7@usgs.gov               NA         9927               \n",
              "1299 dfordhamr8@google.com.au           NA        94828               \n",
              "1300 rleningr9@taobao.com               OC        21333     2/23/2020 \n",
              "1301 gbilbeyra@wisc.edu                 AS        77316     5/4/2022  \n",
              "1302 araddenrb@umn.edu                  NA        16230               \n",
              "1303 vskirlinrc@sphinn.com              NA        14500     6/21/2021 \n",
              "1304 efursserd@flickr.com               AS        83588               \n",
              "1305 acaldicottre@furl.net              OC        67530     2/15/2022 \n",
              "1306 fdorgonrf@homestead.com            AS        33272               \n",
              "1307 kklicherg@indiatimes.com           EU         8487               \n",
              "1308 jbirchallrh@senate.gov             AF        76102     3/4/2022  \n",
              "1309 lnorwellri@slate.com               SA        51920     1/11/2023 \n",
              "1310 fwegenenrj@nbcnews.com             NA        68133     9/20/2023 \n",
              "1311 bpierrork@rambler.ru               NA        81408     6/6/2023  \n",
              "1312 hransomrl@qq.com                   EU        69467     7/29/2023 \n",
              "1313 vmacterrellyrm@dailymotion.com     AS           81     9/11/2023 \n",
              "1314 sschafflerrn@wsj.com               OC        89752     9/20/2020 \n",
              "1315 nilyinskiro@123-reg.co.uk          NA        47332     11/16/2020\n",
              "1316 sgeertzrp@hp.com                   NA        36511     11/19/2022\n",
              "1317 cchurchmanrq@qq.com                NA        84037     2/12/2022 \n",
              "1318 crembrantrr@who.int                NA        11336     3/2/2020  \n",
              "     interests\n",
              "1    music    \n",
              "2    sports   \n",
              "3    sports   \n",
              "4    travel   \n",
              "5    music    \n",
              "6    sports   \n",
              "7    music    \n",
              "8    sports   \n",
              "9    travel   \n",
              "10   travel   \n",
              "11   travel   \n",
              "12   sports   \n",
              "13   travel   \n",
              "14   sports   \n",
              "15   sports   \n",
              "16   travel   \n",
              "17   travel   \n",
              "18   music    \n",
              "19   travel   \n",
              "20   sports   \n",
              "21   sports   \n",
              "22   sports   \n",
              "23   sports   \n",
              "24   music    \n",
              "25   sports   \n",
              "26   music    \n",
              "27   music    \n",
              "28   sports   \n",
              "29   music    \n",
              "30   sports   \n",
              "⋮    ⋮        \n",
              "1289 music    \n",
              "1290 travel   \n",
              "1291 music    \n",
              "1292 travel   \n",
              "1293 music    \n",
              "1294 sports   \n",
              "1295 travel   \n",
              "1296 travel   \n",
              "1297 sports   \n",
              "1298 sports   \n",
              "1299 music    \n",
              "1300 music    \n",
              "1301 music    \n",
              "1302 music    \n",
              "1303 music    \n",
              "1304 travel   \n",
              "1305 music    \n",
              "1306 music    \n",
              "1307 music    \n",
              "1308 music    \n",
              "1309 travel   \n",
              "1310 travel   \n",
              "1311 sports   \n",
              "1312 music    \n",
              "1313 sports   \n",
              "1314 sports   \n",
              "1315 sports   \n",
              "1316 music    \n",
              "1317 music    \n",
              "1318 music    "
            ]
          },
          "metadata": {}
        }
      ]
    },
    {
      "cell_type": "code",
      "source": [
        "#\n",
        "df2[df2==\"\"] <- NA\n",
        "df3 <- df2 %>% filter(!is.na(last_login) & !is.na(birthdate))\n",
        "df3"
      ],
      "metadata": {
        "id": "LwXD1sNulIT3",
        "outputId": "2c19534a-b8e9-45f9-8fff-6691498f324f",
        "colab": {
          "base_uri": "https://localhost:8080/",
          "height": 1000
        }
      },
      "execution_count": 39,
      "outputs": [
        {
          "output_type": "display_data",
          "data": {
            "text/html": [
              "<table class=\"dataframe\">\n",
              "<caption>A data.frame: 650 × 8</caption>\n",
              "<thead>\n",
              "\t<tr><th scope=col>username</th><th scope=col>full_name</th><th scope=col>birthdate</th><th scope=col>email</th><th scope=col>continent</th><th scope=col>followers</th><th scope=col>last_login</th><th scope=col>interests</th></tr>\n",
              "\t<tr><th scope=col>&lt;chr&gt;</th><th scope=col>&lt;chr&gt;</th><th scope=col>&lt;chr&gt;</th><th scope=col>&lt;chr&gt;</th><th scope=col>&lt;chr&gt;</th><th scope=col>&lt;int&gt;</th><th scope=col>&lt;chr&gt;</th><th scope=col>&lt;chr&gt;</th></tr>\n",
              "</thead>\n",
              "<tbody>\n",
              "\t<tr><td>ckippen0       </td><td>Clevey Kippen      </td><td>5/1/1991  </td><td>ckippen0@t-online.de         </td><td>NA</td><td>12362</td><td>5/16/2023 </td><td>music </td></tr>\n",
              "\t<tr><td>tgergler1      </td><td>Tedi Gergler       </td><td>10/5/1998 </td><td>tgergler1@salon.com          </td><td>NA</td><td>21360</td><td>8/20/2020 </td><td>sports</td></tr>\n",
              "\t<tr><td>rphettis3      </td><td>Ruddy Phettis      </td><td>6/18/1984 </td><td>rphettis3@npr.org            </td><td>EU</td><td>80047</td><td>9/20/2023 </td><td>travel</td></tr>\n",
              "\t<tr><td>ttotman6       </td><td>Tamqrah Totman     </td><td>8/7/1986  </td><td>ttotman6@elpais.com          </td><td>AF</td><td>42669</td><td>3/10/2023 </td><td>music </td></tr>\n",
              "\t<tr><td>kgrigoryev8    </td><td>Krishna Grigoryev  </td><td>5/25/1990 </td><td>kgrigoryev8@quantcast.com    </td><td>EU</td><td>93923</td><td>1/30/2023 </td><td>travel</td></tr>\n",
              "\t<tr><td>mchittockb     </td><td>Myriam Chittock    </td><td>1/26/1989 </td><td>mchittockb@uiuc.edu          </td><td>AF</td><td>46304</td><td>8/29/2023 </td><td>sports</td></tr>\n",
              "\t<tr><td>aeasbyd        </td><td>Alessandra Easby   </td><td>1/5/1991  </td><td>aeasbyd@google.ca            </td><td>AF</td><td>16786</td><td>6/15/2023 </td><td>sports</td></tr>\n",
              "\t<tr><td>dleishmanf     </td><td>Dyane Leishman     </td><td>2/12/1990 </td><td>dleishmanf@lycos.com         </td><td>NA</td><td>85070</td><td>6/5/2021  </td><td>travel</td></tr>\n",
              "\t<tr><td>omarusiki      </td><td>Otha Marusik       </td><td>12/4/1992 </td><td>omarusiki@cdbaby.com         </td><td>AF</td><td>93981</td><td>2/4/2022  </td><td>travel</td></tr>\n",
              "\t<tr><td>sspenclayk     </td><td>Scott Spenclay     </td><td>12/7/1989 </td><td>sspenclayk@wikispaces.com    </td><td>AF</td><td>31745</td><td>11/29/2022</td><td>sports</td></tr>\n",
              "\t<tr><td>gklinckl       </td><td>Georgetta Klinck   </td><td>7/26/1996 </td><td>gklinckl@over-blog.com       </td><td>SA</td><td>69386</td><td>9/10/2023 </td><td>sports</td></tr>\n",
              "\t<tr><td>rhollowm       </td><td>Riccardo Hollow    </td><td>1/18/1980 </td><td>rhollowm@dyndns.org          </td><td>OC</td><td>73088</td><td>1/22/2020 </td><td>sports</td></tr>\n",
              "\t<tr><td>galdrins       </td><td>Gerick Aldrin      </td><td>7/31/1995 </td><td>galdrins@ca.gov              </td><td>NA</td><td>96491</td><td>5/26/2022 </td><td>music </td></tr>\n",
              "\t<tr><td>ddimmockt      </td><td>Didi Dimmock       </td><td>5/15/1985 </td><td>ddimmockt@wired.com          </td><td>EU</td><td>81726</td><td>4/23/2021 </td><td>sports</td></tr>\n",
              "\t<tr><td>fpythonu       </td><td>Franz Python       </td><td>4/5/1984  </td><td>fpythonu@fastcompany.com     </td><td>SA</td><td>28388</td><td>7/9/2023  </td><td>music </td></tr>\n",
              "\t<tr><td>btutingv       </td><td>Brod Tuting        </td><td>11/10/1988</td><td>btutingv@wordpress.org       </td><td>NA</td><td>42044</td><td>8/16/2021 </td><td>music </td></tr>\n",
              "\t<tr><td>tcosgriffw     </td><td>Tami Cosgriff      </td><td>8/26/1997 </td><td>tcosgriffw@exblog.jp         </td><td>NA</td><td>94463</td><td>6/25/2021 </td><td>music </td></tr>\n",
              "\t<tr><td>amcclellandz   </td><td>Annabela McClelland</td><td>8/12/1983 </td><td>amcclellandz@soundcloud.com  </td><td>AF</td><td>51483</td><td>5/3/2020  </td><td>sports</td></tr>\n",
              "\t<tr><td>asearby10      </td><td>Alyson Searby      </td><td>11/27/1997</td><td>asearby10@bravesites.com     </td><td>NA</td><td>10548</td><td>6/7/2022  </td><td>travel</td></tr>\n",
              "\t<tr><td>kpietzker11    </td><td>Keane Pietzker     </td><td>11/26/1996</td><td>kpietzker11@tumblr.com       </td><td>AS</td><td>96249</td><td>8/7/2023  </td><td>music </td></tr>\n",
              "\t<tr><td>olandreth12    </td><td>Orsa Landreth      </td><td>1/10/2000 </td><td>olandreth12@oaic.gov.au      </td><td>SA</td><td>21065</td><td>9/2/2020  </td><td>music </td></tr>\n",
              "\t<tr><td>pscopyn13      </td><td>Pablo Scopyn       </td><td>4/5/1985  </td><td>pscopyn13@creativecommons.org</td><td>NA</td><td>39440</td><td>9/9/2023  </td><td>music </td></tr>\n",
              "\t<tr><td>clettice14     </td><td>Cosette Lettice    </td><td>12/23/1981</td><td>clettice14@cmu.edu           </td><td>AS</td><td>58637</td><td>12/7/2021 </td><td>travel</td></tr>\n",
              "\t<tr><td>schamberlayne15</td><td>Shena Chamberlayne </td><td>8/18/1989 </td><td>schamberlayne15@godaddy.com  </td><td>NA</td><td>64567</td><td>12/3/2020 </td><td>music </td></tr>\n",
              "\t<tr><td>gwand16        </td><td>Gaelan Wand        </td><td>8/13/1995 </td><td>gwand16@ihg.com              </td><td>NA</td><td>16969</td><td>2/2/2021  </td><td>sports</td></tr>\n",
              "\t<tr><td>lure17         </td><td>Layton Ure         </td><td>6/27/1981 </td><td>lure17@mit.edu               </td><td>NA</td><td>55952</td><td>6/24/2020 </td><td>sports</td></tr>\n",
              "\t<tr><td>ccressy18      </td><td>Carson Cressy      </td><td>10/20/1995</td><td>ccressy18@ucoz.com           </td><td>NA</td><td>61529</td><td>12/15/2021</td><td>sports</td></tr>\n",
              "\t<tr><td>bgribbon1b     </td><td>Bennie Gribbon     </td><td>11/12/1984</td><td>bgribbon1b@dailymail.co.uk   </td><td>AS</td><td> 8772</td><td>11/21/2021</td><td>music </td></tr>\n",
              "\t<tr><td>lherley1d      </td><td>Lorianne Herley    </td><td>11/30/1984</td><td>lherley1d@baidu.com          </td><td>AS</td><td>33535</td><td>8/18/2022 </td><td>travel</td></tr>\n",
              "\t<tr><td>scleyburn1f    </td><td>Steward Cleyburn   </td><td>11/18/1985</td><td>scleyburn1f@msn.com          </td><td>EU</td><td>69684</td><td>11/6/2022 </td><td>sports</td></tr>\n",
              "\t<tr><td>⋮</td><td>⋮</td><td>⋮</td><td>⋮</td><td>⋮</td><td>⋮</td><td>⋮</td><td>⋮</td></tr>\n",
              "\t<tr><td>jmacaskillqb  </td><td>Jinny MacAskill     </td><td>9/20/2002 </td><td>jmacaskillqb@weebly.com        </td><td>OC</td><td>67895</td><td>11/10/2020</td><td>travel</td></tr>\n",
              "\t<tr><td>mcornbellqd   </td><td>Maximo Cornbell     </td><td>9/13/1989 </td><td>mcornbellqd@upenn.edu          </td><td>NA</td><td>22534</td><td>9/14/2022 </td><td>music </td></tr>\n",
              "\t<tr><td>clabbqe       </td><td>Constantia Labb     </td><td>4/29/1983 </td><td>clabbqe@phpbb.com              </td><td>AS</td><td>19170</td><td>4/17/2020 </td><td>sports</td></tr>\n",
              "\t<tr><td>mmatteaqi     </td><td>Maxy Mattea         </td><td>1/14/1991 </td><td>mmatteaqi@mit.edu              </td><td>AS</td><td>58766</td><td>12/16/2021</td><td>travel</td></tr>\n",
              "\t<tr><td>gbluneqj      </td><td>Gusta Blune         </td><td>11/25/1997</td><td>gbluneqj@google.nl             </td><td>NA</td><td>98741</td><td>1/20/2023 </td><td>music </td></tr>\n",
              "\t<tr><td>nkenningleyqk </td><td>Niall Kenningley    </td><td>7/12/2000 </td><td>nkenningleyqk@vkontakte.ru     </td><td>NA</td><td>70115</td><td>6/26/2022 </td><td>music </td></tr>\n",
              "\t<tr><td>hscraceqm     </td><td>Haze Scrace         </td><td>6/11/2001 </td><td>hscraceqm@economist.com        </td><td>AS</td><td>12639</td><td>9/6/2020  </td><td>music </td></tr>\n",
              "\t<tr><td>lbyasqp       </td><td>Lothaire Byas       </td><td>1/28/1992 </td><td>lbyasqp@merriam-webster.com    </td><td>SA</td><td>10235</td><td>8/22/2021 </td><td>sports</td></tr>\n",
              "\t<tr><td>mgreceqr      </td><td>Molly Grece         </td><td>6/25/1998 </td><td>mgreceqr@deliciousdays.com     </td><td>NA</td><td>75667</td><td>7/25/2023 </td><td>sports</td></tr>\n",
              "\t<tr><td>enealeqs      </td><td>Ethelyn Neale       </td><td>1/23/1990 </td><td>enealeqs@spotify.com           </td><td>NA</td><td>19623</td><td>3/29/2022 </td><td>sports</td></tr>\n",
              "\t<tr><td>cvogeleinqt   </td><td>Codi Vogelein       </td><td>1/20/1998 </td><td>cvogeleinqt@stanford.edu       </td><td>EU</td><td>47689</td><td>5/6/2023  </td><td>travel</td></tr>\n",
              "\t<tr><td>lblinkhornqu  </td><td>Lolita Blinkhorn    </td><td>6/11/1980 </td><td>lblinkhornqu@hud.gov           </td><td>AS</td><td>64080</td><td>9/23/2023 </td><td>sports</td></tr>\n",
              "\t<tr><td>hallonbyqv    </td><td>Hatti Allonby       </td><td>8/5/1987  </td><td>hallonbyqv@theatlantic.com     </td><td>NA</td><td>91992</td><td>3/15/2021 </td><td>travel</td></tr>\n",
              "\t<tr><td>badinqw       </td><td>Bo Adin             </td><td>4/24/1997 </td><td>badinqw@shareasale.com         </td><td>NA</td><td>82090</td><td>10/26/2020</td><td>sports</td></tr>\n",
              "\t<tr><td>sargerqy      </td><td>Shane Arger         </td><td>2/21/1992 </td><td>sargerqy@exblog.jp             </td><td>AF</td><td>53022</td><td>12/7/2021 </td><td>music </td></tr>\n",
              "\t<tr><td>jgiorgiuttiqz </td><td>Joy Giorgiutti      </td><td>5/5/1988  </td><td>jgiorgiuttiqz@timesonline.co.uk</td><td>NA</td><td>26125</td><td>6/1/2020  </td><td>travel</td></tr>\n",
              "\t<tr><td>ksturdeyr4    </td><td>Krissie Sturdey     </td><td>8/13/1980 </td><td>ksturdeyr4@skyrock.com         </td><td>SA</td><td>37880</td><td>4/17/2020 </td><td>travel</td></tr>\n",
              "\t<tr><td>ggerrillr6    </td><td>Genevieve Gerrill   </td><td>8/16/1994 </td><td>ggerrillr6@xrea.com            </td><td>OC</td><td>78326</td><td>4/30/2022 </td><td>sports</td></tr>\n",
              "\t<tr><td>rleningr9     </td><td>Roch Lening         </td><td>9/1/1981  </td><td>rleningr9@taobao.com           </td><td>OC</td><td>21333</td><td>2/23/2020 </td><td>music </td></tr>\n",
              "\t<tr><td>gbilbeyra     </td><td>Grannie Bilbey      </td><td>6/22/1992 </td><td>gbilbeyra@wisc.edu             </td><td>AS</td><td>77316</td><td>5/4/2022  </td><td>music </td></tr>\n",
              "\t<tr><td>acaldicottre  </td><td>Ashlee Caldicott    </td><td>2/2/1996  </td><td>acaldicottre@furl.net          </td><td>OC</td><td>67530</td><td>2/15/2022 </td><td>music </td></tr>\n",
              "\t<tr><td>jbirchallrh   </td><td>Jinny Birchall      </td><td>11/3/1987 </td><td>jbirchallrh@senate.gov         </td><td>AF</td><td>76102</td><td>3/4/2022  </td><td>music </td></tr>\n",
              "\t<tr><td>fwegenenrj    </td><td>Filippa Wegenen     </td><td>10/25/1994</td><td>fwegenenrj@nbcnews.com         </td><td>NA</td><td>68133</td><td>9/20/2023 </td><td>travel</td></tr>\n",
              "\t<tr><td>bpierrork     </td><td>Bobbie Pierro       </td><td>5/27/1991 </td><td>bpierrork@rambler.ru           </td><td>NA</td><td>81408</td><td>6/6/2023  </td><td>sports</td></tr>\n",
              "\t<tr><td>vmacterrellyrm</td><td>Virginie MacTerrelly</td><td>10/8/1994 </td><td>vmacterrellyrm@dailymotion.com </td><td>AS</td><td>   81</td><td>9/11/2023 </td><td>sports</td></tr>\n",
              "\t<tr><td>sschafflerrn  </td><td>Sallyann Schaffler  </td><td>12/7/1999 </td><td>sschafflerrn@wsj.com           </td><td>OC</td><td>89752</td><td>9/20/2020 </td><td>sports</td></tr>\n",
              "\t<tr><td>nilyinskiro   </td><td>Nanette Ilyinski    </td><td>5/13/1989 </td><td>nilyinskiro@123-reg.co.uk      </td><td>NA</td><td>47332</td><td>11/16/2020</td><td>sports</td></tr>\n",
              "\t<tr><td>sgeertzrp     </td><td>Stephen Geertz      </td><td>9/6/1994  </td><td>sgeertzrp@hp.com               </td><td>NA</td><td>36511</td><td>11/19/2022</td><td>music </td></tr>\n",
              "\t<tr><td>cchurchmanrq  </td><td>Chrisse Churchman   </td><td>4/23/1998 </td><td>cchurchmanrq@qq.com            </td><td>NA</td><td>84037</td><td>2/12/2022 </td><td>music </td></tr>\n",
              "\t<tr><td>crembrantrr   </td><td>Clementine Rembrant </td><td>3/15/2001 </td><td>crembrantrr@who.int            </td><td>NA</td><td>11336</td><td>3/2/2020  </td><td>music </td></tr>\n",
              "</tbody>\n",
              "</table>\n"
            ],
            "text/markdown": "\nA data.frame: 650 × 8\n\n| username &lt;chr&gt; | full_name &lt;chr&gt; | birthdate &lt;chr&gt; | email &lt;chr&gt; | continent &lt;chr&gt; | followers &lt;int&gt; | last_login &lt;chr&gt; | interests &lt;chr&gt; |\n|---|---|---|---|---|---|---|---|\n| ckippen0        | Clevey Kippen       | 5/1/1991   | ckippen0@t-online.de          | NA | 12362 | 5/16/2023  | music  |\n| tgergler1       | Tedi Gergler        | 10/5/1998  | tgergler1@salon.com           | NA | 21360 | 8/20/2020  | sports |\n| rphettis3       | Ruddy Phettis       | 6/18/1984  | rphettis3@npr.org             | EU | 80047 | 9/20/2023  | travel |\n| ttotman6        | Tamqrah Totman      | 8/7/1986   | ttotman6@elpais.com           | AF | 42669 | 3/10/2023  | music  |\n| kgrigoryev8     | Krishna Grigoryev   | 5/25/1990  | kgrigoryev8@quantcast.com     | EU | 93923 | 1/30/2023  | travel |\n| mchittockb      | Myriam Chittock     | 1/26/1989  | mchittockb@uiuc.edu           | AF | 46304 | 8/29/2023  | sports |\n| aeasbyd         | Alessandra Easby    | 1/5/1991   | aeasbyd@google.ca             | AF | 16786 | 6/15/2023  | sports |\n| dleishmanf      | Dyane Leishman      | 2/12/1990  | dleishmanf@lycos.com          | NA | 85070 | 6/5/2021   | travel |\n| omarusiki       | Otha Marusik        | 12/4/1992  | omarusiki@cdbaby.com          | AF | 93981 | 2/4/2022   | travel |\n| sspenclayk      | Scott Spenclay      | 12/7/1989  | sspenclayk@wikispaces.com     | AF | 31745 | 11/29/2022 | sports |\n| gklinckl        | Georgetta Klinck    | 7/26/1996  | gklinckl@over-blog.com        | SA | 69386 | 9/10/2023  | sports |\n| rhollowm        | Riccardo Hollow     | 1/18/1980  | rhollowm@dyndns.org           | OC | 73088 | 1/22/2020  | sports |\n| galdrins        | Gerick Aldrin       | 7/31/1995  | galdrins@ca.gov               | NA | 96491 | 5/26/2022  | music  |\n| ddimmockt       | Didi Dimmock        | 5/15/1985  | ddimmockt@wired.com           | EU | 81726 | 4/23/2021  | sports |\n| fpythonu        | Franz Python        | 4/5/1984   | fpythonu@fastcompany.com      | SA | 28388 | 7/9/2023   | music  |\n| btutingv        | Brod Tuting         | 11/10/1988 | btutingv@wordpress.org        | NA | 42044 | 8/16/2021  | music  |\n| tcosgriffw      | Tami Cosgriff       | 8/26/1997  | tcosgriffw@exblog.jp          | NA | 94463 | 6/25/2021  | music  |\n| amcclellandz    | Annabela McClelland | 8/12/1983  | amcclellandz@soundcloud.com   | AF | 51483 | 5/3/2020   | sports |\n| asearby10       | Alyson Searby       | 11/27/1997 | asearby10@bravesites.com      | NA | 10548 | 6/7/2022   | travel |\n| kpietzker11     | Keane Pietzker      | 11/26/1996 | kpietzker11@tumblr.com        | AS | 96249 | 8/7/2023   | music  |\n| olandreth12     | Orsa Landreth       | 1/10/2000  | olandreth12@oaic.gov.au       | SA | 21065 | 9/2/2020   | music  |\n| pscopyn13       | Pablo Scopyn        | 4/5/1985   | pscopyn13@creativecommons.org | NA | 39440 | 9/9/2023   | music  |\n| clettice14      | Cosette Lettice     | 12/23/1981 | clettice14@cmu.edu            | AS | 58637 | 12/7/2021  | travel |\n| schamberlayne15 | Shena Chamberlayne  | 8/18/1989  | schamberlayne15@godaddy.com   | NA | 64567 | 12/3/2020  | music  |\n| gwand16         | Gaelan Wand         | 8/13/1995  | gwand16@ihg.com               | NA | 16969 | 2/2/2021   | sports |\n| lure17          | Layton Ure          | 6/27/1981  | lure17@mit.edu                | NA | 55952 | 6/24/2020  | sports |\n| ccressy18       | Carson Cressy       | 10/20/1995 | ccressy18@ucoz.com            | NA | 61529 | 12/15/2021 | sports |\n| bgribbon1b      | Bennie Gribbon      | 11/12/1984 | bgribbon1b@dailymail.co.uk    | AS |  8772 | 11/21/2021 | music  |\n| lherley1d       | Lorianne Herley     | 11/30/1984 | lherley1d@baidu.com           | AS | 33535 | 8/18/2022  | travel |\n| scleyburn1f     | Steward Cleyburn    | 11/18/1985 | scleyburn1f@msn.com           | EU | 69684 | 11/6/2022  | sports |\n| ⋮ | ⋮ | ⋮ | ⋮ | ⋮ | ⋮ | ⋮ | ⋮ |\n| jmacaskillqb   | Jinny MacAskill      | 9/20/2002  | jmacaskillqb@weebly.com         | OC | 67895 | 11/10/2020 | travel |\n| mcornbellqd    | Maximo Cornbell      | 9/13/1989  | mcornbellqd@upenn.edu           | NA | 22534 | 9/14/2022  | music  |\n| clabbqe        | Constantia Labb      | 4/29/1983  | clabbqe@phpbb.com               | AS | 19170 | 4/17/2020  | sports |\n| mmatteaqi      | Maxy Mattea          | 1/14/1991  | mmatteaqi@mit.edu               | AS | 58766 | 12/16/2021 | travel |\n| gbluneqj       | Gusta Blune          | 11/25/1997 | gbluneqj@google.nl              | NA | 98741 | 1/20/2023  | music  |\n| nkenningleyqk  | Niall Kenningley     | 7/12/2000  | nkenningleyqk@vkontakte.ru      | NA | 70115 | 6/26/2022  | music  |\n| hscraceqm      | Haze Scrace          | 6/11/2001  | hscraceqm@economist.com         | AS | 12639 | 9/6/2020   | music  |\n| lbyasqp        | Lothaire Byas        | 1/28/1992  | lbyasqp@merriam-webster.com     | SA | 10235 | 8/22/2021  | sports |\n| mgreceqr       | Molly Grece          | 6/25/1998  | mgreceqr@deliciousdays.com      | NA | 75667 | 7/25/2023  | sports |\n| enealeqs       | Ethelyn Neale        | 1/23/1990  | enealeqs@spotify.com            | NA | 19623 | 3/29/2022  | sports |\n| cvogeleinqt    | Codi Vogelein        | 1/20/1998  | cvogeleinqt@stanford.edu        | EU | 47689 | 5/6/2023   | travel |\n| lblinkhornqu   | Lolita Blinkhorn     | 6/11/1980  | lblinkhornqu@hud.gov            | AS | 64080 | 9/23/2023  | sports |\n| hallonbyqv     | Hatti Allonby        | 8/5/1987   | hallonbyqv@theatlantic.com      | NA | 91992 | 3/15/2021  | travel |\n| badinqw        | Bo Adin              | 4/24/1997  | badinqw@shareasale.com          | NA | 82090 | 10/26/2020 | sports |\n| sargerqy       | Shane Arger          | 2/21/1992  | sargerqy@exblog.jp              | AF | 53022 | 12/7/2021  | music  |\n| jgiorgiuttiqz  | Joy Giorgiutti       | 5/5/1988   | jgiorgiuttiqz@timesonline.co.uk | NA | 26125 | 6/1/2020   | travel |\n| ksturdeyr4     | Krissie Sturdey      | 8/13/1980  | ksturdeyr4@skyrock.com          | SA | 37880 | 4/17/2020  | travel |\n| ggerrillr6     | Genevieve Gerrill    | 8/16/1994  | ggerrillr6@xrea.com             | OC | 78326 | 4/30/2022  | sports |\n| rleningr9      | Roch Lening          | 9/1/1981   | rleningr9@taobao.com            | OC | 21333 | 2/23/2020  | music  |\n| gbilbeyra      | Grannie Bilbey       | 6/22/1992  | gbilbeyra@wisc.edu              | AS | 77316 | 5/4/2022   | music  |\n| acaldicottre   | Ashlee Caldicott     | 2/2/1996   | acaldicottre@furl.net           | OC | 67530 | 2/15/2022  | music  |\n| jbirchallrh    | Jinny Birchall       | 11/3/1987  | jbirchallrh@senate.gov          | AF | 76102 | 3/4/2022   | music  |\n| fwegenenrj     | Filippa Wegenen      | 10/25/1994 | fwegenenrj@nbcnews.com          | NA | 68133 | 9/20/2023  | travel |\n| bpierrork      | Bobbie Pierro        | 5/27/1991  | bpierrork@rambler.ru            | NA | 81408 | 6/6/2023   | sports |\n| vmacterrellyrm | Virginie MacTerrelly | 10/8/1994  | vmacterrellyrm@dailymotion.com  | AS |    81 | 9/11/2023  | sports |\n| sschafflerrn   | Sallyann Schaffler   | 12/7/1999  | sschafflerrn@wsj.com            | OC | 89752 | 9/20/2020  | sports |\n| nilyinskiro    | Nanette Ilyinski     | 5/13/1989  | nilyinskiro@123-reg.co.uk       | NA | 47332 | 11/16/2020 | sports |\n| sgeertzrp      | Stephen Geertz       | 9/6/1994   | sgeertzrp@hp.com                | NA | 36511 | 11/19/2022 | music  |\n| cchurchmanrq   | Chrisse Churchman    | 4/23/1998  | cchurchmanrq@qq.com             | NA | 84037 | 2/12/2022  | music  |\n| crembrantrr    | Clementine Rembrant  | 3/15/2001  | crembrantrr@who.int             | NA | 11336 | 3/2/2020   | music  |\n\n",
            "text/latex": "A data.frame: 650 × 8\n\\begin{tabular}{llllllll}\n username & full\\_name & birthdate & email & continent & followers & last\\_login & interests\\\\\n <chr> & <chr> & <chr> & <chr> & <chr> & <int> & <chr> & <chr>\\\\\n\\hline\n\t ckippen0        & Clevey Kippen       & 5/1/1991   & ckippen0@t-online.de          & NA & 12362 & 5/16/2023  & music \\\\\n\t tgergler1       & Tedi Gergler        & 10/5/1998  & tgergler1@salon.com           & NA & 21360 & 8/20/2020  & sports\\\\\n\t rphettis3       & Ruddy Phettis       & 6/18/1984  & rphettis3@npr.org             & EU & 80047 & 9/20/2023  & travel\\\\\n\t ttotman6        & Tamqrah Totman      & 8/7/1986   & ttotman6@elpais.com           & AF & 42669 & 3/10/2023  & music \\\\\n\t kgrigoryev8     & Krishna Grigoryev   & 5/25/1990  & kgrigoryev8@quantcast.com     & EU & 93923 & 1/30/2023  & travel\\\\\n\t mchittockb      & Myriam Chittock     & 1/26/1989  & mchittockb@uiuc.edu           & AF & 46304 & 8/29/2023  & sports\\\\\n\t aeasbyd         & Alessandra Easby    & 1/5/1991   & aeasbyd@google.ca             & AF & 16786 & 6/15/2023  & sports\\\\\n\t dleishmanf      & Dyane Leishman      & 2/12/1990  & dleishmanf@lycos.com          & NA & 85070 & 6/5/2021   & travel\\\\\n\t omarusiki       & Otha Marusik        & 12/4/1992  & omarusiki@cdbaby.com          & AF & 93981 & 2/4/2022   & travel\\\\\n\t sspenclayk      & Scott Spenclay      & 12/7/1989  & sspenclayk@wikispaces.com     & AF & 31745 & 11/29/2022 & sports\\\\\n\t gklinckl        & Georgetta Klinck    & 7/26/1996  & gklinckl@over-blog.com        & SA & 69386 & 9/10/2023  & sports\\\\\n\t rhollowm        & Riccardo Hollow     & 1/18/1980  & rhollowm@dyndns.org           & OC & 73088 & 1/22/2020  & sports\\\\\n\t galdrins        & Gerick Aldrin       & 7/31/1995  & galdrins@ca.gov               & NA & 96491 & 5/26/2022  & music \\\\\n\t ddimmockt       & Didi Dimmock        & 5/15/1985  & ddimmockt@wired.com           & EU & 81726 & 4/23/2021  & sports\\\\\n\t fpythonu        & Franz Python        & 4/5/1984   & fpythonu@fastcompany.com      & SA & 28388 & 7/9/2023   & music \\\\\n\t btutingv        & Brod Tuting         & 11/10/1988 & btutingv@wordpress.org        & NA & 42044 & 8/16/2021  & music \\\\\n\t tcosgriffw      & Tami Cosgriff       & 8/26/1997  & tcosgriffw@exblog.jp          & NA & 94463 & 6/25/2021  & music \\\\\n\t amcclellandz    & Annabela McClelland & 8/12/1983  & amcclellandz@soundcloud.com   & AF & 51483 & 5/3/2020   & sports\\\\\n\t asearby10       & Alyson Searby       & 11/27/1997 & asearby10@bravesites.com      & NA & 10548 & 6/7/2022   & travel\\\\\n\t kpietzker11     & Keane Pietzker      & 11/26/1996 & kpietzker11@tumblr.com        & AS & 96249 & 8/7/2023   & music \\\\\n\t olandreth12     & Orsa Landreth       & 1/10/2000  & olandreth12@oaic.gov.au       & SA & 21065 & 9/2/2020   & music \\\\\n\t pscopyn13       & Pablo Scopyn        & 4/5/1985   & pscopyn13@creativecommons.org & NA & 39440 & 9/9/2023   & music \\\\\n\t clettice14      & Cosette Lettice     & 12/23/1981 & clettice14@cmu.edu            & AS & 58637 & 12/7/2021  & travel\\\\\n\t schamberlayne15 & Shena Chamberlayne  & 8/18/1989  & schamberlayne15@godaddy.com   & NA & 64567 & 12/3/2020  & music \\\\\n\t gwand16         & Gaelan Wand         & 8/13/1995  & gwand16@ihg.com               & NA & 16969 & 2/2/2021   & sports\\\\\n\t lure17          & Layton Ure          & 6/27/1981  & lure17@mit.edu                & NA & 55952 & 6/24/2020  & sports\\\\\n\t ccressy18       & Carson Cressy       & 10/20/1995 & ccressy18@ucoz.com            & NA & 61529 & 12/15/2021 & sports\\\\\n\t bgribbon1b      & Bennie Gribbon      & 11/12/1984 & bgribbon1b@dailymail.co.uk    & AS &  8772 & 11/21/2021 & music \\\\\n\t lherley1d       & Lorianne Herley     & 11/30/1984 & lherley1d@baidu.com           & AS & 33535 & 8/18/2022  & travel\\\\\n\t scleyburn1f     & Steward Cleyburn    & 11/18/1985 & scleyburn1f@msn.com           & EU & 69684 & 11/6/2022  & sports\\\\\n\t ⋮ & ⋮ & ⋮ & ⋮ & ⋮ & ⋮ & ⋮ & ⋮\\\\\n\t jmacaskillqb   & Jinny MacAskill      & 9/20/2002  & jmacaskillqb@weebly.com         & OC & 67895 & 11/10/2020 & travel\\\\\n\t mcornbellqd    & Maximo Cornbell      & 9/13/1989  & mcornbellqd@upenn.edu           & NA & 22534 & 9/14/2022  & music \\\\\n\t clabbqe        & Constantia Labb      & 4/29/1983  & clabbqe@phpbb.com               & AS & 19170 & 4/17/2020  & sports\\\\\n\t mmatteaqi      & Maxy Mattea          & 1/14/1991  & mmatteaqi@mit.edu               & AS & 58766 & 12/16/2021 & travel\\\\\n\t gbluneqj       & Gusta Blune          & 11/25/1997 & gbluneqj@google.nl              & NA & 98741 & 1/20/2023  & music \\\\\n\t nkenningleyqk  & Niall Kenningley     & 7/12/2000  & nkenningleyqk@vkontakte.ru      & NA & 70115 & 6/26/2022  & music \\\\\n\t hscraceqm      & Haze Scrace          & 6/11/2001  & hscraceqm@economist.com         & AS & 12639 & 9/6/2020   & music \\\\\n\t lbyasqp        & Lothaire Byas        & 1/28/1992  & lbyasqp@merriam-webster.com     & SA & 10235 & 8/22/2021  & sports\\\\\n\t mgreceqr       & Molly Grece          & 6/25/1998  & mgreceqr@deliciousdays.com      & NA & 75667 & 7/25/2023  & sports\\\\\n\t enealeqs       & Ethelyn Neale        & 1/23/1990  & enealeqs@spotify.com            & NA & 19623 & 3/29/2022  & sports\\\\\n\t cvogeleinqt    & Codi Vogelein        & 1/20/1998  & cvogeleinqt@stanford.edu        & EU & 47689 & 5/6/2023   & travel\\\\\n\t lblinkhornqu   & Lolita Blinkhorn     & 6/11/1980  & lblinkhornqu@hud.gov            & AS & 64080 & 9/23/2023  & sports\\\\\n\t hallonbyqv     & Hatti Allonby        & 8/5/1987   & hallonbyqv@theatlantic.com      & NA & 91992 & 3/15/2021  & travel\\\\\n\t badinqw        & Bo Adin              & 4/24/1997  & badinqw@shareasale.com          & NA & 82090 & 10/26/2020 & sports\\\\\n\t sargerqy       & Shane Arger          & 2/21/1992  & sargerqy@exblog.jp              & AF & 53022 & 12/7/2021  & music \\\\\n\t jgiorgiuttiqz  & Joy Giorgiutti       & 5/5/1988   & jgiorgiuttiqz@timesonline.co.uk & NA & 26125 & 6/1/2020   & travel\\\\\n\t ksturdeyr4     & Krissie Sturdey      & 8/13/1980  & ksturdeyr4@skyrock.com          & SA & 37880 & 4/17/2020  & travel\\\\\n\t ggerrillr6     & Genevieve Gerrill    & 8/16/1994  & ggerrillr6@xrea.com             & OC & 78326 & 4/30/2022  & sports\\\\\n\t rleningr9      & Roch Lening          & 9/1/1981   & rleningr9@taobao.com            & OC & 21333 & 2/23/2020  & music \\\\\n\t gbilbeyra      & Grannie Bilbey       & 6/22/1992  & gbilbeyra@wisc.edu              & AS & 77316 & 5/4/2022   & music \\\\\n\t acaldicottre   & Ashlee Caldicott     & 2/2/1996   & acaldicottre@furl.net           & OC & 67530 & 2/15/2022  & music \\\\\n\t jbirchallrh    & Jinny Birchall       & 11/3/1987  & jbirchallrh@senate.gov          & AF & 76102 & 3/4/2022   & music \\\\\n\t fwegenenrj     & Filippa Wegenen      & 10/25/1994 & fwegenenrj@nbcnews.com          & NA & 68133 & 9/20/2023  & travel\\\\\n\t bpierrork      & Bobbie Pierro        & 5/27/1991  & bpierrork@rambler.ru            & NA & 81408 & 6/6/2023   & sports\\\\\n\t vmacterrellyrm & Virginie MacTerrelly & 10/8/1994  & vmacterrellyrm@dailymotion.com  & AS &    81 & 9/11/2023  & sports\\\\\n\t sschafflerrn   & Sallyann Schaffler   & 12/7/1999  & sschafflerrn@wsj.com            & OC & 89752 & 9/20/2020  & sports\\\\\n\t nilyinskiro    & Nanette Ilyinski     & 5/13/1989  & nilyinskiro@123-reg.co.uk       & NA & 47332 & 11/16/2020 & sports\\\\\n\t sgeertzrp      & Stephen Geertz       & 9/6/1994   & sgeertzrp@hp.com                & NA & 36511 & 11/19/2022 & music \\\\\n\t cchurchmanrq   & Chrisse Churchman    & 4/23/1998  & cchurchmanrq@qq.com             & NA & 84037 & 2/12/2022  & music \\\\\n\t crembrantrr    & Clementine Rembrant  & 3/15/2001  & crembrantrr@who.int             & NA & 11336 & 3/2/2020   & music \\\\\n\\end{tabular}\n",
            "text/plain": [
              "    username        full_name            birthdate \n",
              "1   ckippen0        Clevey Kippen        5/1/1991  \n",
              "2   tgergler1       Tedi Gergler         10/5/1998 \n",
              "3   rphettis3       Ruddy Phettis        6/18/1984 \n",
              "4   ttotman6        Tamqrah Totman       8/7/1986  \n",
              "5   kgrigoryev8     Krishna Grigoryev    5/25/1990 \n",
              "6   mchittockb      Myriam Chittock      1/26/1989 \n",
              "7   aeasbyd         Alessandra Easby     1/5/1991  \n",
              "8   dleishmanf      Dyane Leishman       2/12/1990 \n",
              "9   omarusiki       Otha Marusik         12/4/1992 \n",
              "10  sspenclayk      Scott Spenclay       12/7/1989 \n",
              "11  gklinckl        Georgetta Klinck     7/26/1996 \n",
              "12  rhollowm        Riccardo Hollow      1/18/1980 \n",
              "13  galdrins        Gerick Aldrin        7/31/1995 \n",
              "14  ddimmockt       Didi Dimmock         5/15/1985 \n",
              "15  fpythonu        Franz Python         4/5/1984  \n",
              "16  btutingv        Brod Tuting          11/10/1988\n",
              "17  tcosgriffw      Tami Cosgriff        8/26/1997 \n",
              "18  amcclellandz    Annabela McClelland  8/12/1983 \n",
              "19  asearby10       Alyson Searby        11/27/1997\n",
              "20  kpietzker11     Keane Pietzker       11/26/1996\n",
              "21  olandreth12     Orsa Landreth        1/10/2000 \n",
              "22  pscopyn13       Pablo Scopyn         4/5/1985  \n",
              "23  clettice14      Cosette Lettice      12/23/1981\n",
              "24  schamberlayne15 Shena Chamberlayne   8/18/1989 \n",
              "25  gwand16         Gaelan Wand          8/13/1995 \n",
              "26  lure17          Layton Ure           6/27/1981 \n",
              "27  ccressy18       Carson Cressy        10/20/1995\n",
              "28  bgribbon1b      Bennie Gribbon       11/12/1984\n",
              "29  lherley1d       Lorianne Herley      11/30/1984\n",
              "30  scleyburn1f     Steward Cleyburn     11/18/1985\n",
              "⋮   ⋮               ⋮                    ⋮         \n",
              "621 jmacaskillqb    Jinny MacAskill      9/20/2002 \n",
              "622 mcornbellqd     Maximo Cornbell      9/13/1989 \n",
              "623 clabbqe         Constantia Labb      4/29/1983 \n",
              "624 mmatteaqi       Maxy Mattea          1/14/1991 \n",
              "625 gbluneqj        Gusta Blune          11/25/1997\n",
              "626 nkenningleyqk   Niall Kenningley     7/12/2000 \n",
              "627 hscraceqm       Haze Scrace          6/11/2001 \n",
              "628 lbyasqp         Lothaire Byas        1/28/1992 \n",
              "629 mgreceqr        Molly Grece          6/25/1998 \n",
              "630 enealeqs        Ethelyn Neale        1/23/1990 \n",
              "631 cvogeleinqt     Codi Vogelein        1/20/1998 \n",
              "632 lblinkhornqu    Lolita Blinkhorn     6/11/1980 \n",
              "633 hallonbyqv      Hatti Allonby        8/5/1987  \n",
              "634 badinqw         Bo Adin              4/24/1997 \n",
              "635 sargerqy        Shane Arger          2/21/1992 \n",
              "636 jgiorgiuttiqz   Joy Giorgiutti       5/5/1988  \n",
              "637 ksturdeyr4      Krissie Sturdey      8/13/1980 \n",
              "638 ggerrillr6      Genevieve Gerrill    8/16/1994 \n",
              "639 rleningr9       Roch Lening          9/1/1981  \n",
              "640 gbilbeyra       Grannie Bilbey       6/22/1992 \n",
              "641 acaldicottre    Ashlee Caldicott     2/2/1996  \n",
              "642 jbirchallrh     Jinny Birchall       11/3/1987 \n",
              "643 fwegenenrj      Filippa Wegenen      10/25/1994\n",
              "644 bpierrork       Bobbie Pierro        5/27/1991 \n",
              "645 vmacterrellyrm  Virginie MacTerrelly 10/8/1994 \n",
              "646 sschafflerrn    Sallyann Schaffler   12/7/1999 \n",
              "647 nilyinskiro     Nanette Ilyinski     5/13/1989 \n",
              "648 sgeertzrp       Stephen Geertz       9/6/1994  \n",
              "649 cchurchmanrq    Chrisse Churchman    4/23/1998 \n",
              "650 crembrantrr     Clementine Rembrant  3/15/2001 \n",
              "    email                           continent followers last_login interests\n",
              "1   ckippen0@t-online.de            NA        12362     5/16/2023  music    \n",
              "2   tgergler1@salon.com             NA        21360     8/20/2020  sports   \n",
              "3   rphettis3@npr.org               EU        80047     9/20/2023  travel   \n",
              "4   ttotman6@elpais.com             AF        42669     3/10/2023  music    \n",
              "5   kgrigoryev8@quantcast.com       EU        93923     1/30/2023  travel   \n",
              "6   mchittockb@uiuc.edu             AF        46304     8/29/2023  sports   \n",
              "7   aeasbyd@google.ca               AF        16786     6/15/2023  sports   \n",
              "8   dleishmanf@lycos.com            NA        85070     6/5/2021   travel   \n",
              "9   omarusiki@cdbaby.com            AF        93981     2/4/2022   travel   \n",
              "10  sspenclayk@wikispaces.com       AF        31745     11/29/2022 sports   \n",
              "11  gklinckl@over-blog.com          SA        69386     9/10/2023  sports   \n",
              "12  rhollowm@dyndns.org             OC        73088     1/22/2020  sports   \n",
              "13  galdrins@ca.gov                 NA        96491     5/26/2022  music    \n",
              "14  ddimmockt@wired.com             EU        81726     4/23/2021  sports   \n",
              "15  fpythonu@fastcompany.com        SA        28388     7/9/2023   music    \n",
              "16  btutingv@wordpress.org          NA        42044     8/16/2021  music    \n",
              "17  tcosgriffw@exblog.jp            NA        94463     6/25/2021  music    \n",
              "18  amcclellandz@soundcloud.com     AF        51483     5/3/2020   sports   \n",
              "19  asearby10@bravesites.com        NA        10548     6/7/2022   travel   \n",
              "20  kpietzker11@tumblr.com          AS        96249     8/7/2023   music    \n",
              "21  olandreth12@oaic.gov.au         SA        21065     9/2/2020   music    \n",
              "22  pscopyn13@creativecommons.org   NA        39440     9/9/2023   music    \n",
              "23  clettice14@cmu.edu              AS        58637     12/7/2021  travel   \n",
              "24  schamberlayne15@godaddy.com     NA        64567     12/3/2020  music    \n",
              "25  gwand16@ihg.com                 NA        16969     2/2/2021   sports   \n",
              "26  lure17@mit.edu                  NA        55952     6/24/2020  sports   \n",
              "27  ccressy18@ucoz.com              NA        61529     12/15/2021 sports   \n",
              "28  bgribbon1b@dailymail.co.uk      AS         8772     11/21/2021 music    \n",
              "29  lherley1d@baidu.com             AS        33535     8/18/2022  travel   \n",
              "30  scleyburn1f@msn.com             EU        69684     11/6/2022  sports   \n",
              "⋮   ⋮                               ⋮         ⋮         ⋮          ⋮        \n",
              "621 jmacaskillqb@weebly.com         OC        67895     11/10/2020 travel   \n",
              "622 mcornbellqd@upenn.edu           NA        22534     9/14/2022  music    \n",
              "623 clabbqe@phpbb.com               AS        19170     4/17/2020  sports   \n",
              "624 mmatteaqi@mit.edu               AS        58766     12/16/2021 travel   \n",
              "625 gbluneqj@google.nl              NA        98741     1/20/2023  music    \n",
              "626 nkenningleyqk@vkontakte.ru      NA        70115     6/26/2022  music    \n",
              "627 hscraceqm@economist.com         AS        12639     9/6/2020   music    \n",
              "628 lbyasqp@merriam-webster.com     SA        10235     8/22/2021  sports   \n",
              "629 mgreceqr@deliciousdays.com      NA        75667     7/25/2023  sports   \n",
              "630 enealeqs@spotify.com            NA        19623     3/29/2022  sports   \n",
              "631 cvogeleinqt@stanford.edu        EU        47689     5/6/2023   travel   \n",
              "632 lblinkhornqu@hud.gov            AS        64080     9/23/2023  sports   \n",
              "633 hallonbyqv@theatlantic.com      NA        91992     3/15/2021  travel   \n",
              "634 badinqw@shareasale.com          NA        82090     10/26/2020 sports   \n",
              "635 sargerqy@exblog.jp              AF        53022     12/7/2021  music    \n",
              "636 jgiorgiuttiqz@timesonline.co.uk NA        26125     6/1/2020   travel   \n",
              "637 ksturdeyr4@skyrock.com          SA        37880     4/17/2020  travel   \n",
              "638 ggerrillr6@xrea.com             OC        78326     4/30/2022  sports   \n",
              "639 rleningr9@taobao.com            OC        21333     2/23/2020  music    \n",
              "640 gbilbeyra@wisc.edu              AS        77316     5/4/2022   music    \n",
              "641 acaldicottre@furl.net           OC        67530     2/15/2022  music    \n",
              "642 jbirchallrh@senate.gov          AF        76102     3/4/2022   music    \n",
              "643 fwegenenrj@nbcnews.com          NA        68133     9/20/2023  travel   \n",
              "644 bpierrork@rambler.ru            NA        81408     6/6/2023   sports   \n",
              "645 vmacterrellyrm@dailymotion.com  AS           81     9/11/2023  sports   \n",
              "646 sschafflerrn@wsj.com            OC        89752     9/20/2020  sports   \n",
              "647 nilyinskiro@123-reg.co.uk       NA        47332     11/16/2020 sports   \n",
              "648 sgeertzrp@hp.com                NA        36511     11/19/2022 music    \n",
              "649 cchurchmanrq@qq.com             NA        84037     2/12/2022  music    \n",
              "650 crembrantrr@who.int             NA        11336     3/2/2020   music    "
            ]
          },
          "metadata": {}
        }
      ]
    },
    {
      "cell_type": "code",
      "source": [
        "#\n",
        "top_10_followers <- df3 %>%\n",
        "  arrange(desc(followers)) %>%\n",
        "  head(10)\n",
        "top_10_followers"
      ],
      "metadata": {
        "id": "7qa100btlI4Z",
        "outputId": "17ad4d92-72cc-41e4-8e4b-26d481f4901f",
        "colab": {
          "base_uri": "https://localhost:8080/",
          "height": 412
        }
      },
      "execution_count": 51,
      "outputs": [
        {
          "output_type": "display_data",
          "data": {
            "text/html": [
              "<table class=\"dataframe\">\n",
              "<caption>A data.frame: 10 × 8</caption>\n",
              "<thead>\n",
              "\t<tr><th></th><th scope=col>username</th><th scope=col>full_name</th><th scope=col>birthdate</th><th scope=col>email</th><th scope=col>continent</th><th scope=col>followers</th><th scope=col>last_login</th><th scope=col>interests</th></tr>\n",
              "\t<tr><th></th><th scope=col>&lt;chr&gt;</th><th scope=col>&lt;chr&gt;</th><th scope=col>&lt;chr&gt;</th><th scope=col>&lt;chr&gt;</th><th scope=col>&lt;chr&gt;</th><th scope=col>&lt;int&gt;</th><th scope=col>&lt;chr&gt;</th><th scope=col>&lt;chr&gt;</th></tr>\n",
              "</thead>\n",
              "<tbody>\n",
              "\t<tr><th scope=row>1</th><td>lleckeyb6    </td><td>Lynne Leckey        </td><td>4/19/1998 </td><td>lleckeyb6@tripadvisor.com</td><td>SA</td><td>99977</td><td>3/14/2021 </td><td>sports</td></tr>\n",
              "\t<tr><th scope=row>2</th><td>spharoaha2   </td><td>Staci Pharoah       </td><td>9/2/1985  </td><td>spharoaha2@sfgate.com    </td><td>NA</td><td>99905</td><td>10/26/2023</td><td>sports</td></tr>\n",
              "\t<tr><th scope=row>3</th><td>cduftondy    </td><td>Celisse Dufton      </td><td>8/24/1995 </td><td>cduftondy@ox.ac.uk       </td><td>OC</td><td>99707</td><td>9/26/2021 </td><td>sports</td></tr>\n",
              "\t<tr><th scope=row>4</th><td>dbartalin77  </td><td>Desiree Bartalin    </td><td>8/23/1993 </td><td>dbartalin77@usda.gov     </td><td>AF</td><td>99618</td><td>5/30/2022 </td><td>music </td></tr>\n",
              "\t<tr><th scope=row>5</th><td>grivardmp    </td><td>Gwen Rivard         </td><td>9/12/1982 </td><td>grivardmp@google.com.hk  </td><td>OC</td><td>99526</td><td>4/4/2020  </td><td>music </td></tr>\n",
              "\t<tr><th scope=row>6</th><td>mraggitt9g   </td><td>Morgan Raggitt      </td><td>11/16/1992</td><td>mraggitt9g@home.pl       </td><td>NA</td><td>99508</td><td>11/12/2021</td><td>music </td></tr>\n",
              "\t<tr><th scope=row>7</th><td>wbenese7     </td><td>Wain Benes          </td><td>3/9/1998  </td><td>wbenese7@ebay.com        </td><td>NA</td><td>99400</td><td>10/1/2021 </td><td>travel</td></tr>\n",
              "\t<tr><th scope=row>8</th><td>kmorriceht   </td><td>Kitti Morrice       </td><td>6/3/1995  </td><td>kmorriceht@privacy.gov.au</td><td>SA</td><td>98936</td><td>3/24/2021 </td><td>sports</td></tr>\n",
              "\t<tr><th scope=row>9</th><td>smacdonnell7o</td><td>Shoshanna MacDonnell</td><td>9/12/2002 </td><td>smacdonnell7o@toplist.cz </td><td>AS</td><td>98760</td><td>7/20/2021 </td><td>music </td></tr>\n",
              "\t<tr><th scope=row>10</th><td>dcossum34    </td><td>Dwain Cossum        </td><td>9/9/1990  </td><td>dcossum34@dagondesign.com</td><td>NA</td><td>98743</td><td>6/7/2021  </td><td>sports</td></tr>\n",
              "</tbody>\n",
              "</table>\n"
            ],
            "text/markdown": "\nA data.frame: 10 × 8\n\n| <!--/--> | username &lt;chr&gt; | full_name &lt;chr&gt; | birthdate &lt;chr&gt; | email &lt;chr&gt; | continent &lt;chr&gt; | followers &lt;int&gt; | last_login &lt;chr&gt; | interests &lt;chr&gt; |\n|---|---|---|---|---|---|---|---|---|\n| 1 | lleckeyb6     | Lynne Leckey         | 4/19/1998  | lleckeyb6@tripadvisor.com | SA | 99977 | 3/14/2021  | sports |\n| 2 | spharoaha2    | Staci Pharoah        | 9/2/1985   | spharoaha2@sfgate.com     | NA | 99905 | 10/26/2023 | sports |\n| 3 | cduftondy     | Celisse Dufton       | 8/24/1995  | cduftondy@ox.ac.uk        | OC | 99707 | 9/26/2021  | sports |\n| 4 | dbartalin77   | Desiree Bartalin     | 8/23/1993  | dbartalin77@usda.gov      | AF | 99618 | 5/30/2022  | music  |\n| 5 | grivardmp     | Gwen Rivard          | 9/12/1982  | grivardmp@google.com.hk   | OC | 99526 | 4/4/2020   | music  |\n| 6 | mraggitt9g    | Morgan Raggitt       | 11/16/1992 | mraggitt9g@home.pl        | NA | 99508 | 11/12/2021 | music  |\n| 7 | wbenese7      | Wain Benes           | 3/9/1998   | wbenese7@ebay.com         | NA | 99400 | 10/1/2021  | travel |\n| 8 | kmorriceht    | Kitti Morrice        | 6/3/1995   | kmorriceht@privacy.gov.au | SA | 98936 | 3/24/2021  | sports |\n| 9 | smacdonnell7o | Shoshanna MacDonnell | 9/12/2002  | smacdonnell7o@toplist.cz  | AS | 98760 | 7/20/2021  | music  |\n| 10 | dcossum34     | Dwain Cossum         | 9/9/1990   | dcossum34@dagondesign.com | NA | 98743 | 6/7/2021   | sports |\n\n",
            "text/latex": "A data.frame: 10 × 8\n\\begin{tabular}{r|llllllll}\n  & username & full\\_name & birthdate & email & continent & followers & last\\_login & interests\\\\\n  & <chr> & <chr> & <chr> & <chr> & <chr> & <int> & <chr> & <chr>\\\\\n\\hline\n\t1 & lleckeyb6     & Lynne Leckey         & 4/19/1998  & lleckeyb6@tripadvisor.com & SA & 99977 & 3/14/2021  & sports\\\\\n\t2 & spharoaha2    & Staci Pharoah        & 9/2/1985   & spharoaha2@sfgate.com     & NA & 99905 & 10/26/2023 & sports\\\\\n\t3 & cduftondy     & Celisse Dufton       & 8/24/1995  & cduftondy@ox.ac.uk        & OC & 99707 & 9/26/2021  & sports\\\\\n\t4 & dbartalin77   & Desiree Bartalin     & 8/23/1993  & dbartalin77@usda.gov      & AF & 99618 & 5/30/2022  & music \\\\\n\t5 & grivardmp     & Gwen Rivard          & 9/12/1982  & grivardmp@google.com.hk   & OC & 99526 & 4/4/2020   & music \\\\\n\t6 & mraggitt9g    & Morgan Raggitt       & 11/16/1992 & mraggitt9g@home.pl        & NA & 99508 & 11/12/2021 & music \\\\\n\t7 & wbenese7      & Wain Benes           & 3/9/1998   & wbenese7@ebay.com         & NA & 99400 & 10/1/2021  & travel\\\\\n\t8 & kmorriceht    & Kitti Morrice        & 6/3/1995   & kmorriceht@privacy.gov.au & SA & 98936 & 3/24/2021  & sports\\\\\n\t9 & smacdonnell7o & Shoshanna MacDonnell & 9/12/2002  & smacdonnell7o@toplist.cz  & AS & 98760 & 7/20/2021  & music \\\\\n\t10 & dcossum34     & Dwain Cossum         & 9/9/1990   & dcossum34@dagondesign.com & NA & 98743 & 6/7/2021   & sports\\\\\n\\end{tabular}\n",
            "text/plain": [
              "   username      full_name            birthdate  email                    \n",
              "1  lleckeyb6     Lynne Leckey         4/19/1998  lleckeyb6@tripadvisor.com\n",
              "2  spharoaha2    Staci Pharoah        9/2/1985   spharoaha2@sfgate.com    \n",
              "3  cduftondy     Celisse Dufton       8/24/1995  cduftondy@ox.ac.uk       \n",
              "4  dbartalin77   Desiree Bartalin     8/23/1993  dbartalin77@usda.gov     \n",
              "5  grivardmp     Gwen Rivard          9/12/1982  grivardmp@google.com.hk  \n",
              "6  mraggitt9g    Morgan Raggitt       11/16/1992 mraggitt9g@home.pl       \n",
              "7  wbenese7      Wain Benes           3/9/1998   wbenese7@ebay.com        \n",
              "8  kmorriceht    Kitti Morrice        6/3/1995   kmorriceht@privacy.gov.au\n",
              "9  smacdonnell7o Shoshanna MacDonnell 9/12/2002  smacdonnell7o@toplist.cz \n",
              "10 dcossum34     Dwain Cossum         9/9/1990   dcossum34@dagondesign.com\n",
              "   continent followers last_login interests\n",
              "1  SA        99977     3/14/2021  sports   \n",
              "2  NA        99905     10/26/2023 sports   \n",
              "3  OC        99707     9/26/2021  sports   \n",
              "4  AF        99618     5/30/2022  music    \n",
              "5  OC        99526     4/4/2020   music    \n",
              "6  NA        99508     11/12/2021 music    \n",
              "7  NA        99400     10/1/2021  travel   \n",
              "8  SA        98936     3/24/2021  sports   \n",
              "9  AS        98760     7/20/2021  music    \n",
              "10 NA        98743     6/7/2021   sports   "
            ]
          },
          "metadata": {}
        }
      ]
    },
    {
      "cell_type": "code",
      "source": [
        "#\n",
        "continent <- df3 %>%\n",
        "  group_by(continent) %>%\n",
        "  summarise(user_count = n())\n",
        "continent"
      ],
      "metadata": {
        "id": "MjrZisnxlJUa",
        "outputId": "5ca6e46d-d47e-4673-f1dc-96a7848b5298",
        "colab": {
          "base_uri": "https://localhost:8080/",
          "height": 286
        }
      },
      "execution_count": 53,
      "outputs": [
        {
          "output_type": "display_data",
          "data": {
            "text/html": [
              "<table class=\"dataframe\">\n",
              "<caption>A tibble: 6 × 2</caption>\n",
              "<thead>\n",
              "\t<tr><th scope=col>continent</th><th scope=col>user_count</th></tr>\n",
              "\t<tr><th scope=col>&lt;chr&gt;</th><th scope=col>&lt;int&gt;</th></tr>\n",
              "</thead>\n",
              "<tbody>\n",
              "\t<tr><td>AF</td><td> 70</td></tr>\n",
              "\t<tr><td>AS</td><td>111</td></tr>\n",
              "\t<tr><td>EU</td><td> 77</td></tr>\n",
              "\t<tr><td>OC</td><td> 95</td></tr>\n",
              "\t<tr><td>SA</td><td> 69</td></tr>\n",
              "\t<tr><td>NA</td><td>228</td></tr>\n",
              "</tbody>\n",
              "</table>\n"
            ],
            "text/markdown": "\nA tibble: 6 × 2\n\n| continent &lt;chr&gt; | user_count &lt;int&gt; |\n|---|---|\n| AF |  70 |\n| AS | 111 |\n| EU |  77 |\n| OC |  95 |\n| SA |  69 |\n| NA | 228 |\n\n",
            "text/latex": "A tibble: 6 × 2\n\\begin{tabular}{ll}\n continent & user\\_count\\\\\n <chr> & <int>\\\\\n\\hline\n\t AF &  70\\\\\n\t AS & 111\\\\\n\t EU &  77\\\\\n\t OC &  95\\\\\n\t SA &  69\\\\\n\t NA & 228\\\\\n\\end{tabular}\n",
            "text/plain": [
              "  continent user_count\n",
              "1 AF         70       \n",
              "2 AS        111       \n",
              "3 EU         77       \n",
              "4 OC         95       \n",
              "5 SA         69       \n",
              "6 NA        228       "
            ]
          },
          "metadata": {}
        }
      ]
    }
  ]
}